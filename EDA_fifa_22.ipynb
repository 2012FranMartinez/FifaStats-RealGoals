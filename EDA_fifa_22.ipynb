{
 "cells": [
  {
   "cell_type": "markdown",
   "metadata": {},
   "source": [
    "# MEMO\n",
    "- Motivación del trabajo y porqué lo quería hacer y como he llegado a él\n",
    "- Problemática encontrada al principio del trabajo\n",
    "- Acciones tomadas para el trabajo:\n",
    "    - Scrapping problemático\n",
    "    - construcción de dataframe a partir de 2. Problemas\n",
    "    - Obtener la data final\n",
    "    - Hacer los análisis + plot\n",
    "\n",
    "\n",
    "1. Pregunta potente: ¿no os habéis preguntado nunca como y quien ha hecho o hace las estadisticas del fifa?\n",
    "    En esto os hago un spoiler, la empresa encrgada es opta y una serie de scoutings que tienen repartidos a lo largo del mundo. \n",
    "2. Primer análisis Fifa\n",
    "    - \n",
    "3. Análisis comparativa Messi/Cristiano & Mbappe/Halland\n",
    "4. Análisis fifa-goles\n",
    "\n",
    "\n",
    "En primer lugar haremos un breve resumen de cómo hemos llegado "
   ]
  },
  {
   "cell_type": "markdown",
   "metadata": {},
   "source": [
    "# Cargar librerías , archivos y limpieza columnas"
   ]
  },
  {
   "cell_type": "code",
   "execution_count": 244,
   "metadata": {},
   "outputs": [],
   "source": [
    "import numpy as np\n",
    "import pandas as pd\n",
    "import os\n",
    "import matplotlib.pyplot as plt\n",
    "import seaborn as sns\n",
    "import plotly.express as px\n",
    "from IPython.display import display,HTML\n",
    "\n",
    "pd.set_option(\"display.max_rows\",None)\n",
    "pd.set_option(\"display.max_columns\",None)\n",
    "pd.set_option(\"display.width\",None)"
   ]
  },
  {
   "cell_type": "code",
   "execution_count": 143,
   "metadata": {},
   "outputs": [],
   "source": [
    "df_fifa = pd.read_csv(\"./data/players_22.csv\")\n",
    "df_reales = pd.read_csv(\"./data/datos_reales_15_10_2024_id.csv\")"
   ]
  },
  {
   "cell_type": "markdown",
   "metadata": {},
   "source": [
    "## Tratar los datos y columnas"
   ]
  },
  {
   "cell_type": "code",
   "execution_count": 144,
   "metadata": {},
   "outputs": [],
   "source": [
    "# Cambiar nombre id\n",
    "df_fifa.rename(columns={\"sofifa_id\":\"id_j\"},inplace=True)\n",
    "df_reales.rename(columns={\"match_id\":\"id_j\"},inplace=True)"
   ]
  },
  {
   "cell_type": "code",
   "execution_count": 145,
   "metadata": {},
   "outputs": [],
   "source": [
    "# eliminar columnas que sobran\n",
    "df_fifa.drop([\"player_url\"],inplace=True,axis=1)\n",
    "df_reales.drop([\"Unnamed: 0\"],inplace=True,axis=1)"
   ]
  },
  {
   "cell_type": "code",
   "execution_count": 147,
   "metadata": {},
   "outputs": [],
   "source": [
    "df_fifa = df_fifa[df_fifa[\"league_name\"].isin([\"Italian Serie A\", \"French Ligue 1\",\"English Premier League\",\"Spain Primera Division\",\"German 1. Bundesliga\"])]"
   ]
  },
  {
   "cell_type": "code",
   "execution_count": 6,
   "metadata": {},
   "outputs": [],
   "source": [
    "cols = []\n",
    "for i in df_fifa.columns:\n",
    "    cols.append(i)"
   ]
  },
  {
   "cell_type": "code",
   "execution_count": 7,
   "metadata": {},
   "outputs": [
    {
     "name": "stdout",
     "output_type": "stream",
     "text": [
      "id_j\n",
      "short_name\n",
      "long_name\n",
      "player_positions\n",
      "overall\n",
      "potential\n",
      "value_eur\n",
      "wage_eur\n",
      "age\n",
      "dob\n",
      "height_cm\n",
      "weight_kg\n",
      "club_team_id\n",
      "club_name\n",
      "league_name\n",
      "league_level\n",
      "club_position\n",
      "club_jersey_number\n",
      "club_loaned_from\n",
      "club_joined\n",
      "club_contract_valid_until\n",
      "nationality_id\n",
      "nationality_name\n",
      "nation_team_id\n",
      "nation_position\n",
      "nation_jersey_number\n",
      "preferred_foot\n",
      "weak_foot\n",
      "skill_moves\n",
      "international_reputation\n",
      "work_rate\n",
      "body_type\n",
      "real_face\n",
      "release_clause_eur\n",
      "player_tags\n",
      "player_traits\n",
      "pace\n",
      "shooting\n",
      "passing\n",
      "dribbling\n",
      "defending\n",
      "physic\n",
      "attacking_crossing\n",
      "attacking_finishing\n",
      "attacking_heading_accuracy\n",
      "attacking_short_passing\n",
      "attacking_volleys\n",
      "skill_dribbling\n",
      "skill_curve\n",
      "skill_fk_accuracy\n",
      "skill_long_passing\n",
      "skill_ball_control\n",
      "movement_acceleration\n",
      "movement_sprint_speed\n",
      "movement_agility\n",
      "movement_reactions\n",
      "movement_balance\n",
      "power_shot_power\n",
      "power_jumping\n",
      "power_stamina\n",
      "power_strength\n",
      "power_long_shots\n",
      "mentality_aggression\n",
      "mentality_interceptions\n",
      "mentality_positioning\n",
      "mentality_vision\n",
      "mentality_penalties\n",
      "mentality_composure\n",
      "defending_marking_awareness\n",
      "defending_standing_tackle\n",
      "defending_sliding_tackle\n",
      "goalkeeping_diving\n",
      "goalkeeping_handling\n",
      "goalkeeping_kicking\n",
      "goalkeeping_positioning\n",
      "goalkeeping_reflexes\n",
      "goalkeeping_speed\n",
      "ls\n",
      "st\n",
      "rs\n",
      "lw\n",
      "lf\n",
      "cf\n",
      "rf\n",
      "rw\n",
      "lam\n",
      "cam\n",
      "ram\n",
      "lm\n",
      "lcm\n",
      "cm\n",
      "rcm\n",
      "rm\n",
      "lwb\n",
      "ldm\n",
      "cdm\n",
      "rdm\n",
      "rwb\n",
      "lb\n",
      "lcb\n",
      "cb\n",
      "rcb\n",
      "rb\n",
      "gk\n",
      "player_face_url\n",
      "club_logo_url\n",
      "club_flag_url\n",
      "nation_logo_url\n",
      "nation_flag_url\n"
     ]
    }
   ],
   "source": [
    "for i in cols:\n",
    "    print(i)"
   ]
  },
  {
   "cell_type": "code",
   "execution_count": 8,
   "metadata": {},
   "outputs": [
    {
     "data": {
      "text/plain": [
       "id_j                              0\n",
       "short_name                        0\n",
       "long_name                         0\n",
       "player_positions                  0\n",
       "overall                           0\n",
       "potential                         0\n",
       "value_eur                         0\n",
       "wage_eur                          0\n",
       "age                               0\n",
       "dob                               0\n",
       "height_cm                         0\n",
       "weight_kg                         0\n",
       "club_team_id                      0\n",
       "club_name                         0\n",
       "league_name                       0\n",
       "league_level                      0\n",
       "club_position                     0\n",
       "club_jersey_number                0\n",
       "club_loaned_from               2722\n",
       "club_joined                     206\n",
       "club_contract_valid_until         0\n",
       "nationality_id                    0\n",
       "nationality_name                  0\n",
       "nation_team_id                 2604\n",
       "nation_position                2604\n",
       "nation_jersey_number           2604\n",
       "preferred_foot                    0\n",
       "weak_foot                         0\n",
       "skill_moves                       0\n",
       "international_reputation          0\n",
       "work_rate                         0\n",
       "body_type                         0\n",
       "real_face                         0\n",
       "release_clause_eur              206\n",
       "player_tags                    2533\n",
       "player_traits                  1152\n",
       "pace                            312\n",
       "shooting                        312\n",
       "passing                         312\n",
       "dribbling                       312\n",
       "defending                       312\n",
       "physic                          312\n",
       "attacking_crossing                0\n",
       "attacking_finishing               0\n",
       "attacking_heading_accuracy        0\n",
       "attacking_short_passing           0\n",
       "attacking_volleys                 0\n",
       "skill_dribbling                   0\n",
       "skill_curve                       0\n",
       "skill_fk_accuracy                 0\n",
       "skill_long_passing                0\n",
       "skill_ball_control                0\n",
       "movement_acceleration             0\n",
       "movement_sprint_speed             0\n",
       "movement_agility                  0\n",
       "movement_reactions                0\n",
       "movement_balance                  0\n",
       "power_shot_power                  0\n",
       "power_jumping                     0\n",
       "power_stamina                     0\n",
       "power_strength                    0\n",
       "power_long_shots                  0\n",
       "mentality_aggression              0\n",
       "mentality_interceptions           0\n",
       "mentality_positioning             0\n",
       "mentality_vision                  0\n",
       "mentality_penalties               0\n",
       "mentality_composure               0\n",
       "defending_marking_awareness       0\n",
       "defending_standing_tackle         0\n",
       "defending_sliding_tackle          0\n",
       "goalkeeping_diving                0\n",
       "goalkeeping_handling              0\n",
       "goalkeeping_kicking               0\n",
       "goalkeeping_positioning           0\n",
       "goalkeeping_reflexes              0\n",
       "goalkeeping_speed              2616\n",
       "ls                                0\n",
       "st                                0\n",
       "rs                                0\n",
       "lw                                0\n",
       "lf                                0\n",
       "cf                                0\n",
       "rf                                0\n",
       "rw                                0\n",
       "lam                               0\n",
       "cam                               0\n",
       "ram                               0\n",
       "lm                                0\n",
       "lcm                               0\n",
       "cm                                0\n",
       "rcm                               0\n",
       "rm                                0\n",
       "lwb                               0\n",
       "ldm                               0\n",
       "cdm                               0\n",
       "rdm                               0\n",
       "rwb                               0\n",
       "lb                                0\n",
       "lcb                               0\n",
       "cb                                0\n",
       "rcb                               0\n",
       "rb                                0\n",
       "gk                                0\n",
       "player_face_url                   0\n",
       "club_logo_url                     0\n",
       "club_flag_url                     0\n",
       "nation_logo_url                2604\n",
       "nation_flag_url                   0\n",
       "dtype: int64"
      ]
     },
     "execution_count": 8,
     "metadata": {},
     "output_type": "execute_result"
    }
   ],
   "source": [
    "df_fifa.isnull().sum()"
   ]
  },
  {
   "cell_type": "code",
   "execution_count": 9,
   "metadata": {},
   "outputs": [
    {
     "name": "stderr",
     "output_type": "stream",
     "text": [
      "C:\\Users\\Francisco\\AppData\\Local\\Temp\\ipykernel_3004\\3975976272.py:5: FutureWarning: A value is trying to be set on a copy of a DataFrame or Series through chained assignment using an inplace method.\n",
      "The behavior will change in pandas 3.0. This inplace method will never work because the intermediate object on which we are setting values always behaves as a copy.\n",
      "\n",
      "For example, when doing 'df[col].method(value, inplace=True)', try using 'df.method({col: value}, inplace=True)' or df[col] = df[col].method(value) instead, to perform the operation inplace on the original object.\n",
      "\n",
      "\n",
      "  df_fifa[i].fillna(df_fifa[i].mean(),inplace=True)\n"
     ]
    }
   ],
   "source": [
    "# INPUTE NAN VALUES with mean\n",
    "fill_values = df_fifa.loc[:,[\"pace\",\"shooting\",\"passing\",\"dribbling\",\"defending\",\"physic\"]]\n",
    "\n",
    "for i in fill_values:\n",
    "    df_fifa[i].fillna(df_fifa[i].mean(),inplace=True)"
   ]
  },
  {
   "cell_type": "code",
   "execution_count": 202,
   "metadata": {},
   "outputs": [
    {
     "data": {
      "text/plain": [
       "id_j                              0\n",
       "short_name                        0\n",
       "long_name                         0\n",
       "player_positions                  0\n",
       "overall                           0\n",
       "potential                         0\n",
       "value_eur                         0\n",
       "wage_eur                          0\n",
       "age                               0\n",
       "dob                               0\n",
       "height_cm                         0\n",
       "weight_kg                         0\n",
       "club_team_id                      0\n",
       "club_name                         0\n",
       "league_name                       0\n",
       "league_level                      0\n",
       "club_position                     0\n",
       "club_jersey_number                0\n",
       "club_loaned_from               2763\n",
       "club_joined                     213\n",
       "club_contract_valid_until         0\n",
       "nationality_id                    0\n",
       "nationality_name                  0\n",
       "nation_team_id                 2627\n",
       "nation_position                2627\n",
       "nation_jersey_number           2627\n",
       "preferred_foot                    0\n",
       "weak_foot                         0\n",
       "skill_moves                       0\n",
       "international_reputation          0\n",
       "work_rate                         0\n",
       "body_type                         0\n",
       "real_face                         0\n",
       "release_clause_eur              213\n",
       "player_tags                    2542\n",
       "player_traits                  1058\n",
       "pace                            326\n",
       "shooting                        326\n",
       "passing                         326\n",
       "dribbling                       326\n",
       "defending                       326\n",
       "physic                          326\n",
       "attacking_crossing                0\n",
       "attacking_finishing               0\n",
       "attacking_heading_accuracy        0\n",
       "attacking_short_passing           0\n",
       "attacking_volleys                 0\n",
       "skill_dribbling                   0\n",
       "skill_curve                       0\n",
       "skill_fk_accuracy                 0\n",
       "skill_long_passing                0\n",
       "skill_ball_control                0\n",
       "movement_acceleration             0\n",
       "movement_sprint_speed             0\n",
       "movement_agility                  0\n",
       "movement_reactions                0\n",
       "movement_balance                  0\n",
       "power_shot_power                  0\n",
       "power_jumping                     0\n",
       "power_stamina                     0\n",
       "power_strength                    0\n",
       "power_long_shots                  0\n",
       "mentality_aggression              0\n",
       "mentality_interceptions           0\n",
       "mentality_positioning             0\n",
       "mentality_vision                  0\n",
       "mentality_penalties               0\n",
       "mentality_composure               0\n",
       "defending_marking_awareness       0\n",
       "defending_standing_tackle         0\n",
       "defending_sliding_tackle          0\n",
       "goalkeeping_diving                0\n",
       "goalkeeping_handling              0\n",
       "goalkeeping_kicking               0\n",
       "goalkeeping_positioning           0\n",
       "goalkeeping_reflexes              0\n",
       "goalkeeping_speed              2650\n",
       "ls                                0\n",
       "st                                0\n",
       "rs                                0\n",
       "lw                                0\n",
       "lf                                0\n",
       "cf                                0\n",
       "rf                                0\n",
       "rw                                0\n",
       "lam                               0\n",
       "cam                               0\n",
       "ram                               0\n",
       "lm                                0\n",
       "lcm                               0\n",
       "cm                                0\n",
       "rcm                               0\n",
       "rm                                0\n",
       "lwb                               0\n",
       "ldm                               0\n",
       "cdm                               0\n",
       "rdm                               0\n",
       "rwb                               0\n",
       "lb                                0\n",
       "lcb                               0\n",
       "cb                                0\n",
       "rcb                               0\n",
       "rb                                0\n",
       "gk                                0\n",
       "player_face_url                   0\n",
       "club_logo_url                     0\n",
       "club_flag_url                     0\n",
       "nation_logo_url                2627\n",
       "nation_flag_url                   0\n",
       "dtype: int64"
      ]
     },
     "execution_count": 202,
     "metadata": {},
     "output_type": "execute_result"
    }
   ],
   "source": [
    "df_fifa.isnull().sum()\n"
   ]
  },
  {
   "cell_type": "markdown",
   "metadata": {},
   "source": [
    "# 1 ANALISIS EXPLORATORIO DATASET FIFA"
   ]
  },
  {
   "cell_type": "markdown",
   "metadata": {},
   "source": [
    "## H1 Análisis altura de todos los jugadores"
   ]
  },
  {
   "cell_type": "code",
   "execution_count": 11,
   "metadata": {},
   "outputs": [
    {
     "data": {
      "text/plain": [
       "Text(0, 0.5, '')"
      ]
     },
     "execution_count": 11,
     "metadata": {},
     "output_type": "execute_result"
    },
    {
     "data": {
      "image/png": "[encoded data removed]",
      "text/plain": [
       "<Figure size 1584x576 with 1 Axes>"
      ]
     },
     "metadata": {
      "needs_background": "light"
     },
     "output_type": "display_data"
    }
   ],
   "source": [
    "plt.figure(figsize=(22,8))\n",
    "ax = sns.countplot(x = \"height_cm\",data=df_fifa)\n",
    "ax.set_title(\"Alturas más comunes\", fontsize=20)\n",
    "ax.set_xlabel(\"Alturas\")\n",
    "ax.set_ylabel(\"\")"
   ]
  },
  {
   "cell_type": "markdown",
   "metadata": {},
   "source": [
    "## H2 alturas mas comunes?"
   ]
  },
  {
   "cell_type": "code",
   "execution_count": 12,
   "metadata": {},
   "outputs": [
    {
     "data": {
      "text/html": [
       "<div>\n",
       "<style scoped>\n",
       "    .dataframe tbody tr th:only-of-type {\n",
       "        vertical-align: middle;\n",
       "    }\n",
       "\n",
       "    .dataframe tbody tr th {\n",
       "        vertical-align: top;\n",
       "    }\n",
       "\n",
       "    .dataframe thead th {\n",
       "        text-align: right;\n",
       "    }\n",
       "</style>\n",
       "<table border=\"1\" class=\"dataframe\">\n",
       "  <thead>\n",
       "    <tr style=\"text-align: right;\">\n",
       "      <th></th>\n",
       "      <th>short_name</th>\n",
       "      <th>dribbling</th>\n",
       "      <th>height_cm</th>\n",
       "    </tr>\n",
       "  </thead>\n",
       "  <tbody>\n",
       "    <tr>\n",
       "      <th>55</th>\n",
       "      <td>J. Hector</td>\n",
       "      <td>75.000000</td>\n",
       "      <td>185</td>\n",
       "    </tr>\n",
       "    <tr>\n",
       "      <th>56</th>\n",
       "      <td>E. Skhiri</td>\n",
       "      <td>73.000000</td>\n",
       "      <td>185</td>\n",
       "    </tr>\n",
       "    <tr>\n",
       "      <th>57</th>\n",
       "      <td>T. Horn</td>\n",
       "      <td>67.774847</td>\n",
       "      <td>192</td>\n",
       "    </tr>\n",
       "    <tr>\n",
       "      <th>58</th>\n",
       "      <td>F. Kainz</td>\n",
       "      <td>77.000000</td>\n",
       "      <td>176</td>\n",
       "    </tr>\n",
       "    <tr>\n",
       "      <th>59</th>\n",
       "      <td>M. Uth</td>\n",
       "      <td>76.000000</td>\n",
       "      <td>185</td>\n",
       "    </tr>\n",
       "  </tbody>\n",
       "</table>\n",
       "</div>"
      ],
      "text/plain": [
       "   short_name  dribbling  height_cm\n",
       "55  J. Hector  75.000000        185\n",
       "56  E. Skhiri  73.000000        185\n",
       "57    T. Horn  67.774847        192\n",
       "58   F. Kainz  77.000000        176\n",
       "59     M. Uth  76.000000        185"
      ]
     },
     "execution_count": 12,
     "metadata": {},
     "output_type": "execute_result"
    }
   ],
   "source": [
    "h2 = df_fifa[[\"short_name\",\"dribbling\",\"height_cm\"]]\n",
    "h2.head()"
   ]
  },
  {
   "cell_type": "markdown",
   "metadata": {},
   "source": [
    "## RELACION ENTRE ALTURA Y DRIBLING"
   ]
  },
  {
   "cell_type": "code",
   "execution_count": 332,
   "metadata": {},
   "outputs": [
    {
     "data": {
      "image/png": "[encoded data removed]",
      "text/plain": [
       "<Figure size 576x432 with 1 Axes>"
      ]
     },
     "metadata": {},
     "output_type": "display_data"
    }
   ],
   "source": [
    "import seaborn as sns\n",
    "import matplotlib.pyplot as plt\n",
    "\n",
    "# Datos de ejemplo\n",
    "data = {\n",
    "    'Altura': [170, 180, 175, 165, 190, 185, 178, 172],\n",
    "    'Dribling': [85, 78, 90, 88, 70, 75, 82, 92]\n",
    "}\n",
    "\n",
    "# Crear el gráfico de dispersión\n",
    "plt.figure(figsize=(8, 6))\n",
    "sns.scatterplot(x='Altura', y='Dribling', data=data, s=100, color=\"b\", marker=\"o\")\n",
    "\n",
    "# Agregar títulos y etiquetas\n",
    "plt.title(\"Relación entre Altura y Dribling\", fontsize=16)\n",
    "plt.xlabel(\"Altura (cm)\", fontsize=12)\n",
    "plt.ylabel(\"Dribling (puntos)\", fontsize=12)\n",
    "\n",
    "# Mostrar el gráfico\n",
    "plt.show()"
   ]
  },
  {
   "cell_type": "code",
   "execution_count": 333,
   "metadata": {},
   "outputs": [
    {
     "data": {
      "text/plain": [
       "<seaborn.axisgrid.FacetGrid at 0x23315088430>"
      ]
     },
     "execution_count": 333,
     "metadata": {},
     "output_type": "execute_result"
    },
    {
     "data": {
      "text/plain": [
       "<Figure size 1584x576 with 0 Axes>"
      ]
     },
     "metadata": {},
     "output_type": "display_data"
    },
    {
     "data": {
      "image/png": "[encoded data removed]",
      "text/plain": [
       "<Figure size 360x360 with 1 Axes>"
      ]
     },
     "metadata": {},
     "output_type": "display_data"
    }
   ],
   "source": [
    "# está relacionada la altura con el dribbling?\n",
    "plt.figure(figsize=(22,8))\n",
    "# sns.scatterplot(x=\"height_cm\",y=\"dribbling\",data=df_fifa)\n",
    "sns.lmplot(x=\"height_cm\",y=\"dribbling\",data=df_fifa)"
   ]
  },
  {
   "cell_type": "code",
   "execution_count": 334,
   "metadata": {},
   "outputs": [
    {
     "name": "stderr",
     "output_type": "stream",
     "text": [
      "C:\\Users\\Francisco\\AppData\\Local\\Temp\\ipykernel_3004\\806998170.py:13: FutureWarning:\n",
      "\n",
      "\n",
      "\n",
      "Passing `palette` without assigning `hue` is deprecated and will be removed in v0.14.0. Assign the `x` variable to `hue` and set `legend=False` for the same effect.\n",
      "\n",
      "\n"
     ]
    },
    {
     "data": {
      "image/png": "[encoded data removed]",
      "text/plain": [
       "<Figure size 576x432 with 1 Axes>"
      ]
     },
     "metadata": {},
     "output_type": "display_data"
    }
   ],
   "source": [
    "import seaborn as sns\n",
    "import matplotlib.pyplot as plt\n",
    "import pandas as pd\n",
    "\n",
    "# Crear dataframe con categorías de altura\n",
    "data = pd.DataFrame({\n",
    "    'Altura': ['Bajo', 'Medio', 'Medio', 'Bajo', 'Alto', 'Alto', 'Medio', 'Bajo'],\n",
    "    'Dribling': [85, 78, 90, 88, 70, 75, 82, 92]\n",
    "})\n",
    "\n",
    "# Crear el violin plot\n",
    "plt.figure(figsize=(8, 6))\n",
    "sns.violinplot(x='Altura', y='Dribling', data=data, palette=\"coolwarm\")\n",
    "\n",
    "# Agregar títulos y etiquetas\n",
    "plt.title(\"Distribución del Dribling por Categorías de Altura\", fontsize=16)\n",
    "plt.xlabel(\"Categoría de Altura\", fontsize=12)\n",
    "plt.ylabel(\"Dribling (puntos)\", fontsize=12)\n",
    "\n",
    "# Mostrar el gráfico\n",
    "plt.show()\n"
   ]
  },
  {
   "cell_type": "markdown",
   "metadata": {},
   "source": [
    "## H3 Top 10 jugadores según sus medias"
   ]
  },
  {
   "cell_type": "code",
   "execution_count": 276,
   "metadata": {},
   "outputs": [
    {
     "data": {
      "text/html": [
       "<div>\n",
       "<style scoped>\n",
       "    .dataframe tbody tr th:only-of-type {\n",
       "        vertical-align: middle;\n",
       "    }\n",
       "\n",
       "    .dataframe tbody tr th {\n",
       "        vertical-align: top;\n",
       "    }\n",
       "\n",
       "    .dataframe thead th {\n",
       "        text-align: right;\n",
       "    }\n",
       "</style>\n",
       "<table border=\"1\" class=\"dataframe\">\n",
       "  <thead>\n",
       "    <tr style=\"text-align: right;\">\n",
       "      <th></th>\n",
       "      <th>short_name</th>\n",
       "      <th>overall</th>\n",
       "    </tr>\n",
       "  </thead>\n",
       "  <tbody>\n",
       "    <tr>\n",
       "      <th>12800</th>\n",
       "      <td>L. Messi</td>\n",
       "      <td>93</td>\n",
       "    </tr>\n",
       "    <tr>\n",
       "      <th>6593</th>\n",
       "      <td>R. Lewandowski</td>\n",
       "      <td>92</td>\n",
       "    </tr>\n",
       "    <tr>\n",
       "      <th>11197</th>\n",
       "      <td>K. De Bruyne</td>\n",
       "      <td>91</td>\n",
       "    </tr>\n",
       "    <tr>\n",
       "      <th>12802</th>\n",
       "      <td>K. Mbappé</td>\n",
       "      <td>91</td>\n",
       "    </tr>\n",
       "    <tr>\n",
       "      <th>11229</th>\n",
       "      <td>Cristiano Ronaldo</td>\n",
       "      <td>91</td>\n",
       "    </tr>\n",
       "    <tr>\n",
       "      <th>12801</th>\n",
       "      <td>Neymar Jr</td>\n",
       "      <td>91</td>\n",
       "    </tr>\n",
       "    <tr>\n",
       "      <th>1890</th>\n",
       "      <td>J. Oblak</td>\n",
       "      <td>91</td>\n",
       "    </tr>\n",
       "    <tr>\n",
       "      <th>6532</th>\n",
       "      <td>M. ter Stegen</td>\n",
       "      <td>90</td>\n",
       "    </tr>\n",
       "    <tr>\n",
       "      <th>17203</th>\n",
       "      <td>H. Kane</td>\n",
       "      <td>90</td>\n",
       "    </tr>\n",
       "    <tr>\n",
       "      <th>3714</th>\n",
       "      <td>N. Kanté</td>\n",
       "      <td>90</td>\n",
       "    </tr>\n",
       "  </tbody>\n",
       "</table>\n",
       "</div>"
      ],
      "text/plain": [
       "              short_name  overall\n",
       "12800           L. Messi       93\n",
       "6593      R. Lewandowski       92\n",
       "11197       K. De Bruyne       91\n",
       "12802          K. Mbappé       91\n",
       "11229  Cristiano Ronaldo       91\n",
       "12801          Neymar Jr       91\n",
       "1890            J. Oblak       91\n",
       "6532       M. ter Stegen       90\n",
       "17203            H. Kane       90\n",
       "3714            N. Kanté       90"
      ]
     },
     "execution_count": 276,
     "metadata": {},
     "output_type": "execute_result"
    }
   ],
   "source": [
    "df_fifa.sort_values('overall', ascending=False)[['short_name', 'overall']][:10]"
   ]
  },
  {
   "cell_type": "markdown",
   "metadata": {},
   "source": [
    "## H4 Top 5 paises con los jugadores con más medias"
   ]
  },
  {
   "cell_type": "code",
   "execution_count": 284,
   "metadata": {},
   "outputs": [
    {
     "data": {
      "text/plain": [
       "nationality_name\n",
       "Argentina         93\n",
       "Poland            92\n",
       "Belgium           91\n",
       "France            91\n",
       "Brazil            91\n",
       "Portugal          91\n",
       "Slovenia          91\n",
       "Germany           90\n",
       "England           90\n",
       "Korea Republic    89\n",
       "Name: overall, dtype: int64"
      ]
     },
     "execution_count": 284,
     "metadata": {},
     "output_type": "execute_result"
    }
   ],
   "source": [
    "h4 = df_fifa.groupby(['nationality_name'])['overall'].max().sort_values(ascending = False).head(10)\n",
    "h4"
   ]
  },
  {
   "cell_type": "markdown",
   "metadata": {},
   "source": [
    "## H5 Top 10 clubes con los jugadores con más medias"
   ]
  },
  {
   "cell_type": "code",
   "execution_count": 303,
   "metadata": {},
   "outputs": [
    {
     "data": {
      "text/plain": [
       "club_name\n",
       "Paris Saint-Germain    93\n",
       "FC Bayern München      92\n",
       "Manchester United      91\n",
       "Manchester City        91\n",
       "Atlético de Madrid     91\n",
       "Tottenham Hotspur      90\n",
       "FC Barcelona           90\n",
       "Chelsea                90\n",
       "Liverpool              89\n",
       "Real Madrid CF         89\n",
       "Name: overall, dtype: int64"
      ]
     },
     "execution_count": 303,
     "metadata": {},
     "output_type": "execute_result"
    }
   ],
   "source": [
    "h5 = df_fifa.groupby(['club_name'])['overall'].max().sort_values(ascending = False)\n",
    "h5 = h5.head(10)\n",
    "\n",
    "h5"
   ]
  },
  {
   "cell_type": "markdown",
   "metadata": {},
   "source": [
    "## H6 Distribución de la edad de los jugadores en los equipos "
   ]
  },
  {
   "cell_type": "code",
   "execution_count": 315,
   "metadata": {},
   "outputs": [
    {
     "name": "stderr",
     "output_type": "stream",
     "text": [
      "C:\\Users\\Francisco\\AppData\\Local\\Temp\\ipykernel_3004\\2503094226.py:7: FutureWarning:\n",
      "\n",
      "\n",
      "\n",
      "Passing `palette` without assigning `hue` is deprecated and will be removed in v0.14.0. Assign the `x` variable to `hue` and set `legend=False` for the same effect.\n",
      "\n",
      "\n"
     ]
    },
    {
     "data": {
      "image/png": "[encoded data removed]",
      "text/plain": [
       "<Figure size 1440x720 with 1 Axes>"
      ]
     },
     "metadata": {},
     "output_type": "display_data"
    }
   ],
   "source": [
    "h6 = h5.index.to_list()\n",
    "clubs = df_fifa.loc[df_fifa['club_name'].isin(h6) & df_fifa['age']]\n",
    "\n",
    "fig, ax = plt.subplots()\n",
    "fig.set_size_inches(20, 10)\n",
    "sns.set(style=\"whitegrid\")\n",
    "ax = sns.boxplot(x=\"club_name\", y=\"age\", data=clubs, palette=\"pastel\")\n",
    "ax.set_title(label='Distribución por Edad de Jugadores en Equipos Top', fontsize=25, fontweight='bold')\n",
    "plt.xlabel('Clubs', fontsize=20)\n",
    "plt.ylabel('Años', fontsize=20)\n",
    "plt.xticks(rotation=45, ha='right')\n",
    "ax.yaxis.set_major_locator(plt.MaxNLocator(integer=True))\n",
    "plt.grid(visible=True, linestyle='--')\n",
    "plt.tight_layout()\n",
    "plt.show()\n"
   ]
  },
  {
   "cell_type": "markdown",
   "metadata": {},
   "source": [
    "## H7 Clubes más importantes"
   ]
  },
  {
   "cell_type": "code",
   "execution_count": 330,
   "metadata": {},
   "outputs": [
    {
     "data": {
      "text/html": [
       "<div>\n",
       "<style scoped>\n",
       "    .dataframe tbody tr th:only-of-type {\n",
       "        vertical-align: middle;\n",
       "    }\n",
       "\n",
       "    .dataframe tbody tr th {\n",
       "        vertical-align: top;\n",
       "    }\n",
       "\n",
       "    .dataframe thead th {\n",
       "        text-align: right;\n",
       "    }\n",
       "</style>\n",
       "<table border=\"1\" class=\"dataframe\">\n",
       "  <thead>\n",
       "    <tr style=\"text-align: right;\">\n",
       "      <th></th>\n",
       "      <th>id_j</th>\n",
       "      <th>short_name</th>\n",
       "      <th>long_name</th>\n",
       "      <th>player_positions</th>\n",
       "      <th>overall</th>\n",
       "      <th>potential</th>\n",
       "      <th>value_eur</th>\n",
       "      <th>wage_eur</th>\n",
       "      <th>age</th>\n",
       "      <th>dob</th>\n",
       "      <th>height_cm</th>\n",
       "      <th>weight_kg</th>\n",
       "      <th>club_team_id</th>\n",
       "      <th>club_name</th>\n",
       "      <th>league_name</th>\n",
       "      <th>league_level</th>\n",
       "      <th>club_position</th>\n",
       "      <th>club_jersey_number</th>\n",
       "      <th>club_loaned_from</th>\n",
       "      <th>club_joined</th>\n",
       "      <th>club_contract_valid_until</th>\n",
       "      <th>nationality_id</th>\n",
       "      <th>nationality_name</th>\n",
       "      <th>nation_team_id</th>\n",
       "      <th>nation_position</th>\n",
       "      <th>nation_jersey_number</th>\n",
       "      <th>preferred_foot</th>\n",
       "      <th>weak_foot</th>\n",
       "      <th>skill_moves</th>\n",
       "      <th>international_reputation</th>\n",
       "      <th>work_rate</th>\n",
       "      <th>body_type</th>\n",
       "      <th>real_face</th>\n",
       "      <th>release_clause_eur</th>\n",
       "      <th>player_tags</th>\n",
       "      <th>player_traits</th>\n",
       "      <th>pace</th>\n",
       "      <th>shooting</th>\n",
       "      <th>passing</th>\n",
       "      <th>dribbling</th>\n",
       "      <th>defending</th>\n",
       "      <th>physic</th>\n",
       "      <th>attacking_crossing</th>\n",
       "      <th>attacking_finishing</th>\n",
       "      <th>attacking_heading_accuracy</th>\n",
       "      <th>attacking_short_passing</th>\n",
       "      <th>attacking_volleys</th>\n",
       "      <th>skill_dribbling</th>\n",
       "      <th>skill_curve</th>\n",
       "      <th>skill_fk_accuracy</th>\n",
       "      <th>skill_long_passing</th>\n",
       "      <th>skill_ball_control</th>\n",
       "      <th>movement_acceleration</th>\n",
       "      <th>movement_sprint_speed</th>\n",
       "      <th>movement_agility</th>\n",
       "      <th>movement_reactions</th>\n",
       "      <th>movement_balance</th>\n",
       "      <th>power_shot_power</th>\n",
       "      <th>power_jumping</th>\n",
       "      <th>power_stamina</th>\n",
       "      <th>power_strength</th>\n",
       "      <th>power_long_shots</th>\n",
       "      <th>mentality_aggression</th>\n",
       "      <th>mentality_interceptions</th>\n",
       "      <th>mentality_positioning</th>\n",
       "      <th>mentality_vision</th>\n",
       "      <th>mentality_penalties</th>\n",
       "      <th>mentality_composure</th>\n",
       "      <th>defending_marking_awareness</th>\n",
       "      <th>defending_standing_tackle</th>\n",
       "      <th>defending_sliding_tackle</th>\n",
       "      <th>goalkeeping_diving</th>\n",
       "      <th>goalkeeping_handling</th>\n",
       "      <th>goalkeeping_kicking</th>\n",
       "      <th>goalkeeping_positioning</th>\n",
       "      <th>goalkeeping_reflexes</th>\n",
       "      <th>goalkeeping_speed</th>\n",
       "      <th>ls</th>\n",
       "      <th>st</th>\n",
       "      <th>rs</th>\n",
       "      <th>lw</th>\n",
       "      <th>lf</th>\n",
       "      <th>cf</th>\n",
       "      <th>rf</th>\n",
       "      <th>rw</th>\n",
       "      <th>lam</th>\n",
       "      <th>cam</th>\n",
       "      <th>ram</th>\n",
       "      <th>lm</th>\n",
       "      <th>lcm</th>\n",
       "      <th>cm</th>\n",
       "      <th>rcm</th>\n",
       "      <th>rm</th>\n",
       "      <th>lwb</th>\n",
       "      <th>ldm</th>\n",
       "      <th>cdm</th>\n",
       "      <th>rdm</th>\n",
       "      <th>rwb</th>\n",
       "      <th>lb</th>\n",
       "      <th>lcb</th>\n",
       "      <th>cb</th>\n",
       "      <th>rcb</th>\n",
       "      <th>rb</th>\n",
       "      <th>gk</th>\n",
       "      <th>player_face_url</th>\n",
       "      <th>club_logo_url</th>\n",
       "      <th>club_flag_url</th>\n",
       "      <th>nation_logo_url</th>\n",
       "      <th>nation_flag_url</th>\n",
       "    </tr>\n",
       "  </thead>\n",
       "  <tbody>\n",
       "    <tr>\n",
       "      <th>1735</th>\n",
       "      <td>215333</td>\n",
       "      <td>D. Zapata</td>\n",
       "      <td>Duván Esteban Zapata Banguera</td>\n",
       "      <td>ST</td>\n",
       "      <td>83</td>\n",
       "      <td>83</td>\n",
       "      <td>35500000.0</td>\n",
       "      <td>77000.0</td>\n",
       "      <td>30</td>\n",
       "      <td>1991-04-01</td>\n",
       "      <td>189</td>\n",
       "      <td>88</td>\n",
       "      <td>39.0</td>\n",
       "      <td>Atalanta</td>\n",
       "      <td>Italian Serie A</td>\n",
       "      <td>1.0</td>\n",
       "      <td>ST</td>\n",
       "      <td>91.0</td>\n",
       "      <td>NaN</td>\n",
       "      <td>2020-01-17</td>\n",
       "      <td>2023.0</td>\n",
       "      <td>56</td>\n",
       "      <td>Colombia</td>\n",
       "      <td>NaN</td>\n",
       "      <td>NaN</td>\n",
       "      <td>NaN</td>\n",
       "      <td>Right</td>\n",
       "      <td>4</td>\n",
       "      <td>3</td>\n",
       "      <td>2</td>\n",
       "      <td>High/Medium</td>\n",
       "      <td>Normal (185+)</td>\n",
       "      <td>Yes</td>\n",
       "      <td>60400000.0</td>\n",
       "      <td>#Strength</td>\n",
       "      <td>Power Header</td>\n",
       "      <td>80.0</td>\n",
       "      <td>81.0</td>\n",
       "      <td>61.0</td>\n",
       "      <td>78.0</td>\n",
       "      <td>35.0</td>\n",
       "      <td>84.0</td>\n",
       "      <td>44</td>\n",
       "      <td>88</td>\n",
       "      <td>83</td>\n",
       "      <td>74</td>\n",
       "      <td>79</td>\n",
       "      <td>79</td>\n",
       "      <td>55</td>\n",
       "      <td>62</td>\n",
       "      <td>47</td>\n",
       "      <td>82</td>\n",
       "      <td>78</td>\n",
       "      <td>81</td>\n",
       "      <td>67</td>\n",
       "      <td>82</td>\n",
       "      <td>58</td>\n",
       "      <td>86</td>\n",
       "      <td>80</td>\n",
       "      <td>75</td>\n",
       "      <td>93</td>\n",
       "      <td>64</td>\n",
       "      <td>72</td>\n",
       "      <td>20</td>\n",
       "      <td>86</td>\n",
       "      <td>66</td>\n",
       "      <td>70</td>\n",
       "      <td>82</td>\n",
       "      <td>44</td>\n",
       "      <td>24</td>\n",
       "      <td>22</td>\n",
       "      <td>9</td>\n",
       "      <td>9</td>\n",
       "      <td>8</td>\n",
       "      <td>6</td>\n",
       "      <td>8</td>\n",
       "      <td>NaN</td>\n",
       "      <td>83</td>\n",
       "      <td>83</td>\n",
       "      <td>83</td>\n",
       "      <td>76</td>\n",
       "      <td>80</td>\n",
       "      <td>80</td>\n",
       "      <td>80</td>\n",
       "      <td>76</td>\n",
       "      <td>76+2</td>\n",
       "      <td>76+2</td>\n",
       "      <td>76+2</td>\n",
       "      <td>74+2</td>\n",
       "      <td>67+2</td>\n",
       "      <td>67+2</td>\n",
       "      <td>67+2</td>\n",
       "      <td>74+2</td>\n",
       "      <td>54+2</td>\n",
       "      <td>54+2</td>\n",
       "      <td>54+2</td>\n",
       "      <td>54+2</td>\n",
       "      <td>54+2</td>\n",
       "      <td>52+2</td>\n",
       "      <td>53+2</td>\n",
       "      <td>53+2</td>\n",
       "      <td>53+2</td>\n",
       "      <td>52+2</td>\n",
       "      <td>16+2</td>\n",
       "      <td>https://cdn.sofifa.net/players/215/333/22_120.png</td>\n",
       "      <td>https://cdn.sofifa.net/teams/39/60.png</td>\n",
       "      <td>https://cdn.sofifa.net/flags/it.png</td>\n",
       "      <td>NaN</td>\n",
       "      <td>https://cdn.sofifa.net/flags/co.png</td>\n",
       "    </tr>\n",
       "    <tr>\n",
       "      <th>1736</th>\n",
       "      <td>223697</td>\n",
       "      <td>R. Gosens</td>\n",
       "      <td>Robin Everardus Gosens</td>\n",
       "      <td>LWB, LB, LM</td>\n",
       "      <td>83</td>\n",
       "      <td>83</td>\n",
       "      <td>36000000.0</td>\n",
       "      <td>65000.0</td>\n",
       "      <td>26</td>\n",
       "      <td>1994-07-05</td>\n",
       "      <td>183</td>\n",
       "      <td>76</td>\n",
       "      <td>39.0</td>\n",
       "      <td>Atalanta</td>\n",
       "      <td>Italian Serie A</td>\n",
       "      <td>1.0</td>\n",
       "      <td>LM</td>\n",
       "      <td>8.0</td>\n",
       "      <td>NaN</td>\n",
       "      <td>2017-07-01</td>\n",
       "      <td>2023.0</td>\n",
       "      <td>21</td>\n",
       "      <td>Germany</td>\n",
       "      <td>1337.0</td>\n",
       "      <td>SUB</td>\n",
       "      <td>20.0</td>\n",
       "      <td>Left</td>\n",
       "      <td>3</td>\n",
       "      <td>3</td>\n",
       "      <td>3</td>\n",
       "      <td>High/Medium</td>\n",
       "      <td>Normal (170-185)</td>\n",
       "      <td>No</td>\n",
       "      <td>61200000.0</td>\n",
       "      <td>NaN</td>\n",
       "      <td>Early Crosser, Long Shot Taker (AI)</td>\n",
       "      <td>82.0</td>\n",
       "      <td>75.0</td>\n",
       "      <td>74.0</td>\n",
       "      <td>79.0</td>\n",
       "      <td>77.0</td>\n",
       "      <td>81.0</td>\n",
       "      <td>82</td>\n",
       "      <td>79</td>\n",
       "      <td>82</td>\n",
       "      <td>80</td>\n",
       "      <td>71</td>\n",
       "      <td>80</td>\n",
       "      <td>69</td>\n",
       "      <td>58</td>\n",
       "      <td>77</td>\n",
       "      <td>82</td>\n",
       "      <td>79</td>\n",
       "      <td>84</td>\n",
       "      <td>71</td>\n",
       "      <td>86</td>\n",
       "      <td>66</td>\n",
       "      <td>76</td>\n",
       "      <td>88</td>\n",
       "      <td>89</td>\n",
       "      <td>76</td>\n",
       "      <td>68</td>\n",
       "      <td>80</td>\n",
       "      <td>77</td>\n",
       "      <td>86</td>\n",
       "      <td>60</td>\n",
       "      <td>50</td>\n",
       "      <td>77</td>\n",
       "      <td>75</td>\n",
       "      <td>78</td>\n",
       "      <td>79</td>\n",
       "      <td>7</td>\n",
       "      <td>16</td>\n",
       "      <td>15</td>\n",
       "      <td>16</td>\n",
       "      <td>10</td>\n",
       "      <td>NaN</td>\n",
       "      <td>81+2</td>\n",
       "      <td>81+2</td>\n",
       "      <td>81+2</td>\n",
       "      <td>80</td>\n",
       "      <td>79</td>\n",
       "      <td>79</td>\n",
       "      <td>79</td>\n",
       "      <td>80</td>\n",
       "      <td>77+3</td>\n",
       "      <td>77+3</td>\n",
       "      <td>77+3</td>\n",
       "      <td>80+3</td>\n",
       "      <td>78+3</td>\n",
       "      <td>78+3</td>\n",
       "      <td>78+3</td>\n",
       "      <td>80+3</td>\n",
       "      <td>81+2</td>\n",
       "      <td>79+3</td>\n",
       "      <td>79+3</td>\n",
       "      <td>79+3</td>\n",
       "      <td>81+2</td>\n",
       "      <td>81+2</td>\n",
       "      <td>79+3</td>\n",
       "      <td>79+3</td>\n",
       "      <td>79+3</td>\n",
       "      <td>81+2</td>\n",
       "      <td>21+3</td>\n",
       "      <td>https://cdn.sofifa.net/players/223/697/22_120.png</td>\n",
       "      <td>https://cdn.sofifa.net/teams/39/60.png</td>\n",
       "      <td>https://cdn.sofifa.net/flags/it.png</td>\n",
       "      <td>https://cdn.sofifa.net/teams/1337/60.png</td>\n",
       "      <td>https://cdn.sofifa.net/flags/de.png</td>\n",
       "    </tr>\n",
       "    <tr>\n",
       "      <th>1739</th>\n",
       "      <td>214979</td>\n",
       "      <td>J. Musso</td>\n",
       "      <td>Juan Agustín Musso</td>\n",
       "      <td>GK</td>\n",
       "      <td>81</td>\n",
       "      <td>83</td>\n",
       "      <td>23500000.0</td>\n",
       "      <td>44000.0</td>\n",
       "      <td>27</td>\n",
       "      <td>1994-05-06</td>\n",
       "      <td>191</td>\n",
       "      <td>93</td>\n",
       "      <td>39.0</td>\n",
       "      <td>Atalanta</td>\n",
       "      <td>Italian Serie A</td>\n",
       "      <td>1.0</td>\n",
       "      <td>GK</td>\n",
       "      <td>1.0</td>\n",
       "      <td>NaN</td>\n",
       "      <td>2021-07-02</td>\n",
       "      <td>2025.0</td>\n",
       "      <td>52</td>\n",
       "      <td>Argentina</td>\n",
       "      <td>1369.0</td>\n",
       "      <td>SUB</td>\n",
       "      <td>12.0</td>\n",
       "      <td>Right</td>\n",
       "      <td>3</td>\n",
       "      <td>1</td>\n",
       "      <td>1</td>\n",
       "      <td>Medium/Medium</td>\n",
       "      <td>Normal (185+)</td>\n",
       "      <td>No</td>\n",
       "      <td>41700000.0</td>\n",
       "      <td>NaN</td>\n",
       "      <td>NaN</td>\n",
       "      <td>NaN</td>\n",
       "      <td>NaN</td>\n",
       "      <td>NaN</td>\n",
       "      <td>NaN</td>\n",
       "      <td>NaN</td>\n",
       "      <td>NaN</td>\n",
       "      <td>20</td>\n",
       "      <td>18</td>\n",
       "      <td>15</td>\n",
       "      <td>31</td>\n",
       "      <td>15</td>\n",
       "      <td>16</td>\n",
       "      <td>16</td>\n",
       "      <td>12</td>\n",
       "      <td>24</td>\n",
       "      <td>20</td>\n",
       "      <td>46</td>\n",
       "      <td>42</td>\n",
       "      <td>32</td>\n",
       "      <td>71</td>\n",
       "      <td>39</td>\n",
       "      <td>55</td>\n",
       "      <td>51</td>\n",
       "      <td>35</td>\n",
       "      <td>70</td>\n",
       "      <td>14</td>\n",
       "      <td>27</td>\n",
       "      <td>18</td>\n",
       "      <td>19</td>\n",
       "      <td>48</td>\n",
       "      <td>25</td>\n",
       "      <td>67</td>\n",
       "      <td>12</td>\n",
       "      <td>14</td>\n",
       "      <td>16</td>\n",
       "      <td>82</td>\n",
       "      <td>78</td>\n",
       "      <td>73</td>\n",
       "      <td>82</td>\n",
       "      <td>86</td>\n",
       "      <td>44.0</td>\n",
       "      <td>31+2</td>\n",
       "      <td>31+2</td>\n",
       "      <td>31+2</td>\n",
       "      <td>29</td>\n",
       "      <td>31</td>\n",
       "      <td>31</td>\n",
       "      <td>31</td>\n",
       "      <td>29</td>\n",
       "      <td>30+2</td>\n",
       "      <td>30+2</td>\n",
       "      <td>30+2</td>\n",
       "      <td>30+2</td>\n",
       "      <td>30+2</td>\n",
       "      <td>30+2</td>\n",
       "      <td>30+2</td>\n",
       "      <td>30+2</td>\n",
       "      <td>27+2</td>\n",
       "      <td>28+2</td>\n",
       "      <td>28+2</td>\n",
       "      <td>28+2</td>\n",
       "      <td>27+2</td>\n",
       "      <td>27+2</td>\n",
       "      <td>27+2</td>\n",
       "      <td>27+2</td>\n",
       "      <td>27+2</td>\n",
       "      <td>27+2</td>\n",
       "      <td>80+2</td>\n",
       "      <td>https://cdn.sofifa.net/players/214/979/22_120.png</td>\n",
       "      <td>https://cdn.sofifa.net/teams/39/60.png</td>\n",
       "      <td>https://cdn.sofifa.net/flags/it.png</td>\n",
       "      <td>https://cdn.sofifa.net/teams/1369/60.png</td>\n",
       "      <td>https://cdn.sofifa.net/flags/ar.png</td>\n",
       "    </tr>\n",
       "    <tr>\n",
       "      <th>1740</th>\n",
       "      <td>220093</td>\n",
       "      <td>H. Hateboer</td>\n",
       "      <td>Hans Hateboer</td>\n",
       "      <td>RWB, RB, RM</td>\n",
       "      <td>81</td>\n",
       "      <td>81</td>\n",
       "      <td>25000000.0</td>\n",
       "      <td>55000.0</td>\n",
       "      <td>27</td>\n",
       "      <td>1994-01-09</td>\n",
       "      <td>185</td>\n",
       "      <td>72</td>\n",
       "      <td>39.0</td>\n",
       "      <td>Atalanta</td>\n",
       "      <td>Italian Serie A</td>\n",
       "      <td>1.0</td>\n",
       "      <td>RES</td>\n",
       "      <td>33.0</td>\n",
       "      <td>NaN</td>\n",
       "      <td>2017-01-31</td>\n",
       "      <td>2023.0</td>\n",
       "      <td>34</td>\n",
       "      <td>Netherlands</td>\n",
       "      <td>NaN</td>\n",
       "      <td>NaN</td>\n",
       "      <td>NaN</td>\n",
       "      <td>Right</td>\n",
       "      <td>3</td>\n",
       "      <td>3</td>\n",
       "      <td>3</td>\n",
       "      <td>High/Medium</td>\n",
       "      <td>Normal (185+)</td>\n",
       "      <td>No</td>\n",
       "      <td>42500000.0</td>\n",
       "      <td>NaN</td>\n",
       "      <td>Long Throw-in, Speed Dribbler (AI)</td>\n",
       "      <td>84.0</td>\n",
       "      <td>64.0</td>\n",
       "      <td>72.0</td>\n",
       "      <td>77.0</td>\n",
       "      <td>77.0</td>\n",
       "      <td>79.0</td>\n",
       "      <td>82</td>\n",
       "      <td>64</td>\n",
       "      <td>76</td>\n",
       "      <td>78</td>\n",
       "      <td>58</td>\n",
       "      <td>79</td>\n",
       "      <td>50</td>\n",
       "      <td>30</td>\n",
       "      <td>70</td>\n",
       "      <td>78</td>\n",
       "      <td>80</td>\n",
       "      <td>87</td>\n",
       "      <td>68</td>\n",
       "      <td>79</td>\n",
       "      <td>74</td>\n",
       "      <td>72</td>\n",
       "      <td>74</td>\n",
       "      <td>86</td>\n",
       "      <td>75</td>\n",
       "      <td>58</td>\n",
       "      <td>79</td>\n",
       "      <td>74</td>\n",
       "      <td>84</td>\n",
       "      <td>69</td>\n",
       "      <td>47</td>\n",
       "      <td>77</td>\n",
       "      <td>77</td>\n",
       "      <td>78</td>\n",
       "      <td>77</td>\n",
       "      <td>11</td>\n",
       "      <td>6</td>\n",
       "      <td>8</td>\n",
       "      <td>14</td>\n",
       "      <td>15</td>\n",
       "      <td>NaN</td>\n",
       "      <td>75+3</td>\n",
       "      <td>75+3</td>\n",
       "      <td>75+3</td>\n",
       "      <td>77</td>\n",
       "      <td>76</td>\n",
       "      <td>76</td>\n",
       "      <td>76</td>\n",
       "      <td>77</td>\n",
       "      <td>75+3</td>\n",
       "      <td>75+3</td>\n",
       "      <td>75+3</td>\n",
       "      <td>78+3</td>\n",
       "      <td>76+3</td>\n",
       "      <td>76+3</td>\n",
       "      <td>76+3</td>\n",
       "      <td>78+3</td>\n",
       "      <td>79+2</td>\n",
       "      <td>77+3</td>\n",
       "      <td>77+3</td>\n",
       "      <td>77+3</td>\n",
       "      <td>79+2</td>\n",
       "      <td>79+2</td>\n",
       "      <td>77+3</td>\n",
       "      <td>77+3</td>\n",
       "      <td>77+3</td>\n",
       "      <td>79+2</td>\n",
       "      <td>19+3</td>\n",
       "      <td>https://cdn.sofifa.net/players/220/093/22_120.png</td>\n",
       "      <td>https://cdn.sofifa.net/teams/39/60.png</td>\n",
       "      <td>https://cdn.sofifa.net/flags/it.png</td>\n",
       "      <td>NaN</td>\n",
       "      <td>https://cdn.sofifa.net/flags/nl.png</td>\n",
       "    </tr>\n",
       "    <tr>\n",
       "      <th>1741</th>\n",
       "      <td>231969</td>\n",
       "      <td>R. Malinovskyi</td>\n",
       "      <td>Ruslan Malinovskyi</td>\n",
       "      <td>CF, CM</td>\n",
       "      <td>81</td>\n",
       "      <td>81</td>\n",
       "      <td>26500000.0</td>\n",
       "      <td>68000.0</td>\n",
       "      <td>28</td>\n",
       "      <td>1993-05-04</td>\n",
       "      <td>181</td>\n",
       "      <td>79</td>\n",
       "      <td>39.0</td>\n",
       "      <td>Atalanta</td>\n",
       "      <td>Italian Serie A</td>\n",
       "      <td>1.0</td>\n",
       "      <td>RF</td>\n",
       "      <td>18.0</td>\n",
       "      <td>NaN</td>\n",
       "      <td>2019-07-16</td>\n",
       "      <td>2023.0</td>\n",
       "      <td>49</td>\n",
       "      <td>Ukraine</td>\n",
       "      <td>1366.0</td>\n",
       "      <td>LW</td>\n",
       "      <td>8.0</td>\n",
       "      <td>Left</td>\n",
       "      <td>4</td>\n",
       "      <td>4</td>\n",
       "      <td>3</td>\n",
       "      <td>Medium/Medium</td>\n",
       "      <td>Stocky (170-185)</td>\n",
       "      <td>No</td>\n",
       "      <td>45100000.0</td>\n",
       "      <td>#Distance Shooter, #FK Specialist</td>\n",
       "      <td>Power Free-Kick, Long Passer (AI), Long Shot T...</td>\n",
       "      <td>74.0</td>\n",
       "      <td>80.0</td>\n",
       "      <td>83.0</td>\n",
       "      <td>81.0</td>\n",
       "      <td>64.0</td>\n",
       "      <td>79.0</td>\n",
       "      <td>79</td>\n",
       "      <td>73</td>\n",
       "      <td>74</td>\n",
       "      <td>85</td>\n",
       "      <td>70</td>\n",
       "      <td>83</td>\n",
       "      <td>85</td>\n",
       "      <td>86</td>\n",
       "      <td>81</td>\n",
       "      <td>85</td>\n",
       "      <td>73</td>\n",
       "      <td>74</td>\n",
       "      <td>69</td>\n",
       "      <td>77</td>\n",
       "      <td>73</td>\n",
       "      <td>90</td>\n",
       "      <td>74</td>\n",
       "      <td>81</td>\n",
       "      <td>79</td>\n",
       "      <td>87</td>\n",
       "      <td>78</td>\n",
       "      <td>66</td>\n",
       "      <td>77</td>\n",
       "      <td>84</td>\n",
       "      <td>83</td>\n",
       "      <td>75</td>\n",
       "      <td>55</td>\n",
       "      <td>72</td>\n",
       "      <td>50</td>\n",
       "      <td>6</td>\n",
       "      <td>6</td>\n",
       "      <td>12</td>\n",
       "      <td>15</td>\n",
       "      <td>13</td>\n",
       "      <td>NaN</td>\n",
       "      <td>79+2</td>\n",
       "      <td>79+2</td>\n",
       "      <td>79+2</td>\n",
       "      <td>80</td>\n",
       "      <td>81</td>\n",
       "      <td>81</td>\n",
       "      <td>81</td>\n",
       "      <td>80</td>\n",
       "      <td>81</td>\n",
       "      <td>81</td>\n",
       "      <td>81</td>\n",
       "      <td>80+1</td>\n",
       "      <td>81</td>\n",
       "      <td>81</td>\n",
       "      <td>81</td>\n",
       "      <td>80+1</td>\n",
       "      <td>73+3</td>\n",
       "      <td>75+3</td>\n",
       "      <td>75+3</td>\n",
       "      <td>75+3</td>\n",
       "      <td>73+3</td>\n",
       "      <td>71+3</td>\n",
       "      <td>69+3</td>\n",
       "      <td>69+3</td>\n",
       "      <td>69+3</td>\n",
       "      <td>71+3</td>\n",
       "      <td>17+3</td>\n",
       "      <td>https://cdn.sofifa.net/players/231/969/22_120.png</td>\n",
       "      <td>https://cdn.sofifa.net/teams/39/60.png</td>\n",
       "      <td>https://cdn.sofifa.net/flags/it.png</td>\n",
       "      <td>https://cdn.sofifa.net/teams/1366/60.png</td>\n",
       "      <td>https://cdn.sofifa.net/flags/ua.png</td>\n",
       "    </tr>\n",
       "  </tbody>\n",
       "</table>\n",
       "</div>"
      ],
      "text/plain": [
       "        id_j      short_name                      long_name player_positions  \\\n",
       "1735  215333       D. Zapata  Duván Esteban Zapata Banguera               ST   \n",
       "1736  223697       R. Gosens         Robin Everardus Gosens      LWB, LB, LM   \n",
       "1739  214979        J. Musso             Juan Agustín Musso               GK   \n",
       "1740  220093     H. Hateboer                  Hans Hateboer      RWB, RB, RM   \n",
       "1741  231969  R. Malinovskyi             Ruslan Malinovskyi           CF, CM   \n",
       "\n",
       "      overall  potential   value_eur  wage_eur  age         dob  height_cm  \\\n",
       "1735       83         83  35500000.0   77000.0   30  1991-04-01        189   \n",
       "1736       83         83  36000000.0   65000.0   26  1994-07-05        183   \n",
       "1739       81         83  23500000.0   44000.0   27  1994-05-06        191   \n",
       "1740       81         81  25000000.0   55000.0   27  1994-01-09        185   \n",
       "1741       81         81  26500000.0   68000.0   28  1993-05-04        181   \n",
       "\n",
       "      weight_kg  club_team_id club_name      league_name  league_level  \\\n",
       "1735         88          39.0  Atalanta  Italian Serie A           1.0   \n",
       "1736         76          39.0  Atalanta  Italian Serie A           1.0   \n",
       "1739         93          39.0  Atalanta  Italian Serie A           1.0   \n",
       "1740         72          39.0  Atalanta  Italian Serie A           1.0   \n",
       "1741         79          39.0  Atalanta  Italian Serie A           1.0   \n",
       "\n",
       "     club_position  club_jersey_number club_loaned_from club_joined  \\\n",
       "1735            ST                91.0              NaN  2020-01-17   \n",
       "1736            LM                 8.0              NaN  2017-07-01   \n",
       "1739            GK                 1.0              NaN  2021-07-02   \n",
       "1740           RES                33.0              NaN  2017-01-31   \n",
       "1741            RF                18.0              NaN  2019-07-16   \n",
       "\n",
       "      club_contract_valid_until  nationality_id nationality_name  \\\n",
       "1735                     2023.0              56         Colombia   \n",
       "1736                     2023.0              21          Germany   \n",
       "1739                     2025.0              52        Argentina   \n",
       "1740                     2023.0              34      Netherlands   \n",
       "1741                     2023.0              49          Ukraine   \n",
       "\n",
       "      nation_team_id nation_position  nation_jersey_number preferred_foot  \\\n",
       "1735             NaN             NaN                   NaN          Right   \n",
       "1736          1337.0             SUB                  20.0           Left   \n",
       "1739          1369.0             SUB                  12.0          Right   \n",
       "1740             NaN             NaN                   NaN          Right   \n",
       "1741          1366.0              LW                   8.0           Left   \n",
       "\n",
       "      weak_foot  skill_moves  international_reputation      work_rate  \\\n",
       "1735          4            3                         2    High/Medium   \n",
       "1736          3            3                         3    High/Medium   \n",
       "1739          3            1                         1  Medium/Medium   \n",
       "1740          3            3                         3    High/Medium   \n",
       "1741          4            4                         3  Medium/Medium   \n",
       "\n",
       "             body_type real_face  release_clause_eur  \\\n",
       "1735     Normal (185+)       Yes          60400000.0   \n",
       "1736  Normal (170-185)        No          61200000.0   \n",
       "1739     Normal (185+)        No          41700000.0   \n",
       "1740     Normal (185+)        No          42500000.0   \n",
       "1741  Stocky (170-185)        No          45100000.0   \n",
       "\n",
       "                            player_tags  \\\n",
       "1735                          #Strength   \n",
       "1736                                NaN   \n",
       "1739                                NaN   \n",
       "1740                                NaN   \n",
       "1741  #Distance Shooter, #FK Specialist   \n",
       "\n",
       "                                          player_traits  pace  shooting  \\\n",
       "1735                                       Power Header  80.0      81.0   \n",
       "1736                Early Crosser, Long Shot Taker (AI)  82.0      75.0   \n",
       "1739                                                NaN   NaN       NaN   \n",
       "1740                 Long Throw-in, Speed Dribbler (AI)  84.0      64.0   \n",
       "1741  Power Free-Kick, Long Passer (AI), Long Shot T...  74.0      80.0   \n",
       "\n",
       "      passing  dribbling  defending  physic  attacking_crossing  \\\n",
       "1735     61.0       78.0       35.0    84.0                  44   \n",
       "1736     74.0       79.0       77.0    81.0                  82   \n",
       "1739      NaN        NaN        NaN     NaN                  20   \n",
       "1740     72.0       77.0       77.0    79.0                  82   \n",
       "1741     83.0       81.0       64.0    79.0                  79   \n",
       "\n",
       "      attacking_finishing  attacking_heading_accuracy  \\\n",
       "1735                   88                          83   \n",
       "1736                   79                          82   \n",
       "1739                   18                          15   \n",
       "1740                   64                          76   \n",
       "1741                   73                          74   \n",
       "\n",
       "      attacking_short_passing  attacking_volleys  skill_dribbling  \\\n",
       "1735                       74                 79               79   \n",
       "1736                       80                 71               80   \n",
       "1739                       31                 15               16   \n",
       "1740                       78                 58               79   \n",
       "1741                       85                 70               83   \n",
       "\n",
       "      skill_curve  skill_fk_accuracy  skill_long_passing  skill_ball_control  \\\n",
       "1735           55                 62                  47                  82   \n",
       "1736           69                 58                  77                  82   \n",
       "1739           16                 12                  24                  20   \n",
       "1740           50                 30                  70                  78   \n",
       "1741           85                 86                  81                  85   \n",
       "\n",
       "      movement_acceleration  movement_sprint_speed  movement_agility  \\\n",
       "1735                     78                     81                67   \n",
       "1736                     79                     84                71   \n",
       "1739                     46                     42                32   \n",
       "1740                     80                     87                68   \n",
       "1741                     73                     74                69   \n",
       "\n",
       "      movement_reactions  movement_balance  power_shot_power  power_jumping  \\\n",
       "1735                  82                58                86             80   \n",
       "1736                  86                66                76             88   \n",
       "1739                  71                39                55             51   \n",
       "1740                  79                74                72             74   \n",
       "1741                  77                73                90             74   \n",
       "\n",
       "      power_stamina  power_strength  power_long_shots  mentality_aggression  \\\n",
       "1735             75              93                64                    72   \n",
       "1736             89              76                68                    80   \n",
       "1739             35              70                14                    27   \n",
       "1740             86              75                58                    79   \n",
       "1741             81              79                87                    78   \n",
       "\n",
       "      mentality_interceptions  mentality_positioning  mentality_vision  \\\n",
       "1735                       20                     86                66   \n",
       "1736                       77                     86                60   \n",
       "1739                       18                     19                48   \n",
       "1740                       74                     84                69   \n",
       "1741                       66                     77                84   \n",
       "\n",
       "      mentality_penalties  mentality_composure  defending_marking_awareness  \\\n",
       "1735                   70                   82                           44   \n",
       "1736                   50                   77                           75   \n",
       "1739                   25                   67                           12   \n",
       "1740                   47                   77                           77   \n",
       "1741                   83                   75                           55   \n",
       "\n",
       "      defending_standing_tackle  defending_sliding_tackle  goalkeeping_diving  \\\n",
       "1735                         24                        22                   9   \n",
       "1736                         78                        79                   7   \n",
       "1739                         14                        16                  82   \n",
       "1740                         78                        77                  11   \n",
       "1741                         72                        50                   6   \n",
       "\n",
       "      goalkeeping_handling  goalkeeping_kicking  goalkeeping_positioning  \\\n",
       "1735                     9                    8                        6   \n",
       "1736                    16                   15                       16   \n",
       "1739                    78                   73                       82   \n",
       "1740                     6                    8                       14   \n",
       "1741                     6                   12                       15   \n",
       "\n",
       "      goalkeeping_reflexes  goalkeeping_speed    ls    st    rs  lw  lf  cf  \\\n",
       "1735                     8                NaN    83    83    83  76  80  80   \n",
       "1736                    10                NaN  81+2  81+2  81+2  80  79  79   \n",
       "1739                    86               44.0  31+2  31+2  31+2  29  31  31   \n",
       "1740                    15                NaN  75+3  75+3  75+3  77  76  76   \n",
       "1741                    13                NaN  79+2  79+2  79+2  80  81  81   \n",
       "\n",
       "      rf  rw   lam   cam   ram    lm   lcm    cm   rcm    rm   lwb   ldm  \\\n",
       "1735  80  76  76+2  76+2  76+2  74+2  67+2  67+2  67+2  74+2  54+2  54+2   \n",
       "1736  79  80  77+3  77+3  77+3  80+3  78+3  78+3  78+3  80+3  81+2  79+3   \n",
       "1739  31  29  30+2  30+2  30+2  30+2  30+2  30+2  30+2  30+2  27+2  28+2   \n",
       "1740  76  77  75+3  75+3  75+3  78+3  76+3  76+3  76+3  78+3  79+2  77+3   \n",
       "1741  81  80    81    81    81  80+1    81    81    81  80+1  73+3  75+3   \n",
       "\n",
       "       cdm   rdm   rwb    lb   lcb    cb   rcb    rb    gk  \\\n",
       "1735  54+2  54+2  54+2  52+2  53+2  53+2  53+2  52+2  16+2   \n",
       "1736  79+3  79+3  81+2  81+2  79+3  79+3  79+3  81+2  21+3   \n",
       "1739  28+2  28+2  27+2  27+2  27+2  27+2  27+2  27+2  80+2   \n",
       "1740  77+3  77+3  79+2  79+2  77+3  77+3  77+3  79+2  19+3   \n",
       "1741  75+3  75+3  73+3  71+3  69+3  69+3  69+3  71+3  17+3   \n",
       "\n",
       "                                        player_face_url  \\\n",
       "1735  https://cdn.sofifa.net/players/215/333/22_120.png   \n",
       "1736  https://cdn.sofifa.net/players/223/697/22_120.png   \n",
       "1739  https://cdn.sofifa.net/players/214/979/22_120.png   \n",
       "1740  https://cdn.sofifa.net/players/220/093/22_120.png   \n",
       "1741  https://cdn.sofifa.net/players/231/969/22_120.png   \n",
       "\n",
       "                               club_logo_url  \\\n",
       "1735  https://cdn.sofifa.net/teams/39/60.png   \n",
       "1736  https://cdn.sofifa.net/teams/39/60.png   \n",
       "1739  https://cdn.sofifa.net/teams/39/60.png   \n",
       "1740  https://cdn.sofifa.net/teams/39/60.png   \n",
       "1741  https://cdn.sofifa.net/teams/39/60.png   \n",
       "\n",
       "                            club_flag_url  \\\n",
       "1735  https://cdn.sofifa.net/flags/it.png   \n",
       "1736  https://cdn.sofifa.net/flags/it.png   \n",
       "1739  https://cdn.sofifa.net/flags/it.png   \n",
       "1740  https://cdn.sofifa.net/flags/it.png   \n",
       "1741  https://cdn.sofifa.net/flags/it.png   \n",
       "\n",
       "                               nation_logo_url  \\\n",
       "1735                                       NaN   \n",
       "1736  https://cdn.sofifa.net/teams/1337/60.png   \n",
       "1739  https://cdn.sofifa.net/teams/1369/60.png   \n",
       "1740                                       NaN   \n",
       "1741  https://cdn.sofifa.net/teams/1366/60.png   \n",
       "\n",
       "                          nation_flag_url  \n",
       "1735  https://cdn.sofifa.net/flags/co.png  \n",
       "1736  https://cdn.sofifa.net/flags/de.png  \n",
       "1739  https://cdn.sofifa.net/flags/ar.png  \n",
       "1740  https://cdn.sofifa.net/flags/nl.png  \n",
       "1741  https://cdn.sofifa.net/flags/ua.png  "
      ]
     },
     "execution_count": 330,
     "metadata": {},
     "output_type": "execute_result"
    }
   ],
   "source": [
    "club_media_overall = df_fifa.groupby(\"club_name\")[\"overall\"].mean().reset_index()\n",
    "club_media_overall.columns = [\"club_name\", \"media_overall\"]\n",
    "club_media_overall = club_media_overall.sort_values(by=\"media_overall\", ascending=False)\n",
    "\n",
    "top_clubs = club_media_overall.head(10)\n",
    "top_clubs\n",
    "\n",
    "data_clubs = df_fifa.loc[df_fifa['club_name'].isin(top_clubs.club_name) & df_fifa['overall']] \n",
    "data_clubs.head()\n"
   ]
  },
  {
   "cell_type": "markdown",
   "metadata": {},
   "source": [
    "## H7 Distribución de la media en los clubes más populares"
   ]
  },
  {
   "cell_type": "code",
   "execution_count": 331,
   "metadata": {},
   "outputs": [
    {
     "name": "stderr",
     "output_type": "stream",
     "text": [
      "C:\\Users\\Francisco\\AppData\\Local\\Temp\\ipykernel_3004\\2255930374.py:2: FutureWarning:\n",
      "\n",
      "\n",
      "\n",
      "Passing `palette` without assigning `hue` is deprecated and will be removed in v0.14.0. Assign the `x` variable to `hue` and set `legend=False` for the same effect.\n",
      "\n",
      "\n"
     ]
    },
    {
     "data": {
      "image/png": "[encoded data removed]",
      "text/plain": [
       "<Figure size 1080x576 with 1 Axes>"
      ]
     },
     "metadata": {},
     "output_type": "display_data"
    }
   ],
   "source": [
    "plt.rcParams['figure.figsize'] = (15, 8)\n",
    "ax = sns.boxplot(x = data_clubs['club_name'], y = data_clubs['overall'], palette = 'inferno') # creating a boxplot\n",
    "ax.set_xlabel(xlabel = 'Some Popular Clubs', fontsize = 9)\n",
    "ax.set_ylabel(ylabel = 'Overall Score', fontsize = 9)\n",
    "ax.set_title(label = 'Distribution of Overall Score in Different popular Clubs', fontsize = 20)\n",
    "plt.xticks(rotation = 90)\n",
    "plt.show()"
   ]
  },
  {
   "cell_type": "markdown",
   "metadata": {},
   "source": [
    "# 2 COMPARACIÓN JUGADORES"
   ]
  },
  {
   "cell_type": "code",
   "execution_count": 201,
   "metadata": {},
   "outputs": [],
   "source": [
    "# Generales\n",
    "skills = ['pace',\n",
    " 'shooting',\n",
    " 'passing',\n",
    " 'dribbling',\n",
    " 'defending',\n",
    " 'physic']"
   ]
  },
  {
   "cell_type": "code",
   "execution_count": 198,
   "metadata": {},
   "outputs": [],
   "source": [
    "# Skills totales\n",
    "skills = ['pace',\n",
    " 'shooting',\n",
    " 'passing',\n",
    " 'dribbling',\n",
    " 'defending',\n",
    " 'physic',\n",
    " 'player_traits',\n",
    " 'attacking_crossing',\n",
    " 'attacking_finishing',\n",
    " 'attacking_heading_accuracy',\n",
    " 'attacking_short_passing',\n",
    " 'attacking_volleys',\n",
    " 'skill_dribbling',\n",
    " 'skill_curve',\n",
    " 'skill_fk_accuracy',\n",
    " 'skill_long_passing',\n",
    " 'skill_ball_control',\n",
    " 'movement_acceleration',\n",
    " 'movement_sprint_speed',\n",
    " 'movement_agility',\n",
    " 'movement_reactions',\n",
    " 'movement_balance',\n",
    " 'power_shot_power',\n",
    " 'power_jumping',\n",
    " 'power_stamina',\n",
    " 'power_strength',\n",
    " 'power_long_shots']"
   ]
  },
  {
   "cell_type": "code",
   "execution_count": 169,
   "metadata": {},
   "outputs": [
    {
     "data": {
      "image/png": "[encoded data removed]",
      "text/plain": [
       "<Figure size 2160x504 with 1 Axes>"
      ]
     },
     "metadata": {
      "needs_background": "light"
     },
     "output_type": "display_data"
    }
   ],
   "source": [
    "messi = df_fifa.loc[df_fifa['short_name'] == 'L. Messi']\n",
    "messi = pd.DataFrame(messi, columns = skills)\n",
    "ronaldo = df_fifa.loc[df_fifa['short_name'] == 'Cristiano Ronaldo']\n",
    "ronaldo = pd.DataFrame(ronaldo, columns = skills)\n",
    "\n",
    "plt.figure(figsize=(30,7))\n",
    "sns.pointplot(data=messi,color='#ff7f0e')\n",
    "sns.pointplot(data=ronaldo, color='#1f77b4')\n",
    "plt.xticks(rotation=-50)\n",
    "plt.xlabel('Skills', fontsize=20)\n",
    "plt.ylabel('Skill value', fontsize=20)\n",
    "plt.title('Messi vs Ronaldo', fontsize = 25)\n",
    "plt.grid()"
   ]
  },
  {
   "cell_type": "markdown",
   "metadata": {},
   "source": [
    "## MBAPPE/HALLAND"
   ]
  },
  {
   "cell_type": "code",
   "execution_count": 204,
   "metadata": {},
   "outputs": [
    {
     "data": {
      "image/png": "[encoded data removed]",
      "text/plain": [
       "<Figure size 2160x504 with 1 Axes>"
      ]
     },
     "metadata": {
      "needs_background": "light"
     },
     "output_type": "display_data"
    }
   ],
   "source": [
    "mbappe = df_fifa.loc[df_fifa['short_name'] == 'K. Mbappé']\n",
    "mbappe = pd.DataFrame(mbappe, columns = skills)\n",
    "halland = df_fifa.loc[df_fifa['short_name'] == 'E. Haaland']\n",
    "halland = pd.DataFrame(halland, columns = skills)\n",
    "\n",
    "plt.figure(figsize=(30,7))\n",
    "sns.pointplot(data=mbappe,color='#ff7f0e')\n",
    "sns.pointplot(data=halland, color='#1f77b4')\n",
    "plt.xticks()\n",
    "plt.xlabel('Skills', fontsize=20)\n",
    "plt.ylabel('Skill value', fontsize=20)\n",
    "plt.title('Mbappe vs Halland', fontsize = 25)\n",
    "plt.grid()"
   ]
  },
  {
   "cell_type": "markdown",
   "metadata": {},
   "source": [
    "## MESSI/CRISTIANO/MBAPPE/HALLAND"
   ]
  },
  {
   "cell_type": "code",
   "execution_count": 199,
   "metadata": {},
   "outputs": [
    {
     "data": {
      "image/png": "[encoded data removed]",
      "text/plain": [
       "<Figure size 2160x504 with 1 Axes>"
      ]
     },
     "metadata": {
      "needs_background": "light"
     },
     "output_type": "display_data"
    }
   ],
   "source": [
    "messi = df_fifa.loc[df_fifa['short_name'] == 'L. Messi']\n",
    "messi = pd.DataFrame(messi, columns = skills)\n",
    "ronaldo = df_fifa.loc[df_fifa['short_name'] == 'Cristiano Ronaldo']\n",
    "ronaldo = pd.DataFrame(ronaldo, columns = skills)\n",
    "mbappe = df_fifa.loc[df_fifa['short_name'] == 'K. Mbappé']\n",
    "mbappe = pd.DataFrame(mbappe, columns = skills)\n",
    "halland = df_fifa.loc[df_fifa['short_name'] == 'E. Haaland']\n",
    "halland = pd.DataFrame(halland, columns = skills)\n",
    "\n",
    "\n",
    "\n",
    "\n",
    "plt.figure(figsize=(30,7))\n",
    "sns.pointplot(data=messi,color='#dc0000', label=\"Messi\")\n",
    "sns.pointplot(data=ronaldo, color='#006341', label=\"C.Ronaldo\")\n",
    "sns.pointplot(data=mbappe,color='#ff7f0e', label=\"Mbappe\")\n",
    "sns.pointplot(data=halland, color='#1f77b4', label=\"Halland\")\n",
    "\n",
    "plt.xlabel('Skills', fontsize=20)\n",
    "plt.ylabel('Skill value', fontsize=20)\n",
    "plt.title('Comparación Jugadores top', fontsize = 20)\n",
    "plt.legend(title=\"Jugadores\")\n",
    "\n",
    "plt.grid()"
   ]
  },
  {
   "cell_type": "markdown",
   "metadata": {},
   "source": [
    "------------------------------------------------------------------------------------------------------------------------"
   ]
  },
  {
   "cell_type": "markdown",
   "metadata": {},
   "source": [
    "# 3 ANALISIS CON DATOS REALES"
   ]
  },
  {
   "cell_type": "markdown",
   "metadata": {},
   "source": [
    "## H1 Top 10 jugadores con mas goles en 2022\n"
   ]
  },
  {
   "cell_type": "code",
   "execution_count": 235,
   "metadata": {},
   "outputs": [
    {
     "data": {
      "text/html": [
       "<div>\n",
       "<style scoped>\n",
       "    .dataframe tbody tr th:only-of-type {\n",
       "        vertical-align: middle;\n",
       "    }\n",
       "\n",
       "    .dataframe tbody tr th {\n",
       "        vertical-align: top;\n",
       "    }\n",
       "\n",
       "    .dataframe thead th {\n",
       "        text-align: right;\n",
       "    }\n",
       "</style>\n",
       "<table border=\"1\" class=\"dataframe\">\n",
       "  <thead>\n",
       "    <tr style=\"text-align: right;\">\n",
       "      <th></th>\n",
       "      <th>id_j</th>\n",
       "      <th>short_name</th>\n",
       "      <th>goles</th>\n",
       "    </tr>\n",
       "  </thead>\n",
       "  <tbody>\n",
       "    <tr>\n",
       "      <th>0</th>\n",
       "      <td>207562</td>\n",
       "      <td>S. Andersson</td>\n",
       "      <td>2</td>\n",
       "    </tr>\n",
       "    <tr>\n",
       "      <th>1</th>\n",
       "      <td>41236</td>\n",
       "      <td>Z. Ibrahimović</td>\n",
       "      <td>8</td>\n",
       "    </tr>\n",
       "    <tr>\n",
       "      <th>2</th>\n",
       "      <td>232656</td>\n",
       "      <td>T. Hernández</td>\n",
       "      <td>5</td>\n",
       "    </tr>\n",
       "    <tr>\n",
       "      <th>3</th>\n",
       "      <td>232656</td>\n",
       "      <td>T. Hernández</td>\n",
       "      <td>1</td>\n",
       "    </tr>\n",
       "    <tr>\n",
       "      <th>4</th>\n",
       "      <td>210413</td>\n",
       "      <td>A. Romagnoli</td>\n",
       "      <td>2</td>\n",
       "    </tr>\n",
       "  </tbody>\n",
       "</table>\n",
       "</div>"
      ],
      "text/plain": [
       "     id_j      short_name  goles\n",
       "0  207562    S. Andersson      2\n",
       "1   41236  Z. Ibrahimović      8\n",
       "2  232656    T. Hernández      5\n",
       "3  232656    T. Hernández      1\n",
       "4  210413    A. Romagnoli      2"
      ]
     },
     "execution_count": 235,
     "metadata": {},
     "output_type": "execute_result"
    }
   ],
   "source": [
    "h1 = df_fifa[[\"id_j\",\"short_name\"]]\n",
    "h1 = pd.merge(h1, df_reales[[\"id_j\",\"goles\"]],how=\"inner\", on=\"id_j\",) # !!!\n",
    "h1.head()"
   ]
  },
  {
   "cell_type": "code",
   "execution_count": 236,
   "metadata": {},
   "outputs": [
    {
     "data": {
      "image/png": "[encoded data removed]",
      "text/plain": [
       "<Figure size 1296x360 with 1 Axes>"
      ]
     },
     "metadata": {
      "needs_background": "light"
     },
     "output_type": "display_data"
    }
   ],
   "source": [
    "h1 = h1.sort_values(\"goles\", ascending=False)[:10]\n",
    "fig = plt.figure(figsize=(18,5))\n",
    "# cmap = plt.get_cmap(\"YlGnBu\")\n",
    "cmap = plt.get_cmap(\"viridis\")\n",
    "norm = plt.Normalize(min(h1[\"goles\"]), max(h1[\"goles\"]))\n",
    "plt.bar(x=\"short_name\", height=\"goles\", data=h1, color=cmap(norm(h1[\"goles\"])))\n",
    "plt.ylabel(\"Goles totales\")\n",
    "plt.xticks(rotation=-45);\n",
    "plt.grid(axis='y', zorder=0)\n",
    "\n"
   ]
  },
  {
   "cell_type": "markdown",
   "metadata": {},
   "source": [
    "## H2 Niveles de 'shooting' del top 10\n"
   ]
  },
  {
   "cell_type": "code",
   "execution_count": 72,
   "metadata": {},
   "outputs": [],
   "source": [
    "h2 = df_fifa[[\"id_j\",\"short_name\",\"shooting\"]]\n",
    "h2 = pd.merge(h2, df_reales[[\"id_j\",\"goles\"]],how=\"inner\", on=\"id_j\",) # !!!"
   ]
  },
  {
   "cell_type": "code",
   "execution_count": 77,
   "metadata": {},
   "outputs": [],
   "source": [
    "h2 = h2.sort_values(\"goles\",ascending=False)[:10]"
   ]
  },
  {
   "cell_type": "markdown",
   "metadata": {},
   "source": [
    "### Opc1"
   ]
  },
  {
   "cell_type": "code",
   "execution_count": 231,
   "metadata": {},
   "outputs": [
    {
     "data": {
      "image/png": "[encoded data removed]",
      "text/plain": [
       "<Figure size 1296x360 with 1 Axes>"
      ]
     },
     "metadata": {
      "needs_background": "light"
     },
     "output_type": "display_data"
    }
   ],
   "source": [
    "fig = plt.figure(figsize=(18,5))\n",
    "plt.bar(x=\"short_name\", height=\"shooting\",data=h2)\n",
    "\n",
    "\n",
    "cmap = plt.get_cmap(\"viridis\")\n",
    "norm = plt.Normalize(min(h2[\"goles\"]), max(h2[\"goles\"]))\n",
    "plt.bar(x=\"short_name\", height=\"goles\", data=h2, color=cmap(norm(h2[\"goles\"])))\n",
    "plt.ylabel(\"Media y Goles\")\n",
    "plt.xticks(rotation=-45)\n",
    "plt.grid(axis='y', zorder=0);"
   ]
  },
  {
   "cell_type": "markdown",
   "metadata": {},
   "source": [
    "### Opc2"
   ]
  },
  {
   "cell_type": "code",
   "execution_count": 232,
   "metadata": {},
   "outputs": [
    {
     "data": {
      "image/png": "[encoded data removed]",
      "text/plain": [
       "<Figure size 1296x360 with 1 Axes>"
      ]
     },
     "metadata": {
      "needs_background": "light"
     },
     "output_type": "display_data"
    }
   ],
   "source": [
    "fig = plt.figure(figsize=(18,5))\n",
    "plt.bar(x=\"short_name\", height=\"shooting\",data=h2)\n",
    "\n",
    "\n",
    "cmap = plt.get_cmap(\"viridis\")\n",
    "norm = plt.Normalize(min(h2[\"shooting\"]), max(h2[\"shooting\"]))\n",
    "plt.bar(x=\"short_name\", height=\"shooting\", data=h2, color=cmap(norm(h2[\"shooting\"])))\n",
    "plt.ylabel(\"Stat Shooting\")\n",
    "plt.xticks(rotation=-45)\n",
    "plt.grid(axis='y', zorder=0);"
   ]
  },
  {
   "cell_type": "markdown",
   "metadata": {},
   "source": [
    "## H3 Relación entre Shooting vs Goles reales"
   ]
  },
  {
   "cell_type": "code",
   "execution_count": null,
   "metadata": {},
   "outputs": [],
   "source": [
    "h3 = h2\n",
    "h3"
   ]
  },
  {
   "cell_type": "markdown",
   "metadata": {},
   "source": [
    "### Comparación de Goles y Habilidades de Disparo top 10 goleadores"
   ]
  },
  {
   "cell_type": "code",
   "execution_count": 335,
   "metadata": {},
   "outputs": [
    {
     "data": {
      "application/vnd.plotly.v1+json": {
       "config": {
        "plotlyServerURL": "https://plot.ly"
       },
       "data": [
        {
         "customdata": [
          [
           "Cristiano Ronaldo"
          ],
          [
           "C. Immobile"
          ],
          [
           "M. Salah"
          ],
          [
           "H. Son"
          ],
          [
           "K. Benzema"
          ],
          [
           "Iago Aspas"
          ],
          [
           "L. Martínez"
          ],
          [
           "T. Abraham"
          ],
          [
           "O. Dembélé"
          ],
          [
           "G. Simeone"
          ]
         ],
         "hovertemplate": "goles=%{marker.color}<br>shooting=%{marker.size}<br>short_name=%{customdata[0]}<extra></extra>",
         "legendgroup": "",
         "marker": {
          "color": [
           18,
           27,
           23,
           23,
           27,
           17,
           21,
           17,
           21,
           17
          ],
          "coloraxis": "coloraxis",
          "size": [
           94,
           87,
           87,
           87,
           86,
           85,
           81,
           78,
           77,
           74
          ],
          "sizemode": "area",
          "sizeref": 0.235,
          "symbol": "circle"
         },
         "mode": "markers",
         "name": "",
         "orientation": "v",
         "showlegend": false,
         "type": "scatter",
         "x": [
          18,
          27,
          23,
          23,
          27,
          17,
          21,
          17,
          21,
          17
         ],
         "xaxis": "x",
         "y": [
          94,
          87,
          87,
          87,
          86,
          85,
          81,
          78,
          77,
          74
         ],
         "yaxis": "y"
        }
       ],
       "layout": {
        "coloraxis": {
         "colorbar": {
          "title": {
           "text": "goles"
          }
         },
         "colorscale": [
          [
           0,
           "#0d0887"
          ],
          [
           0.1111111111111111,
           "#46039f"
          ],
          [
           0.2222222222222222,
           "#7201a8"
          ],
          [
           0.3333333333333333,
           "#9c179e"
          ],
          [
           0.4444444444444444,
           "#bd3786"
          ],
          [
           0.5555555555555556,
           "#d8576b"
          ],
          [
           0.6666666666666666,
           "#ed7953"
          ],
          [
           0.7777777777777778,
           "#fb9f3a"
          ],
          [
           0.8888888888888888,
           "#fdca26"
          ],
          [
           1,
           "#f0f921"
          ]
         ]
        },
        "legend": {
         "itemsizing": "constant",
         "tracegroupgap": 0
        },
        "template": {
         "data": {
          "bar": [
           {
            "error_x": {
             "color": "#2a3f5f"
            },
            "error_y": {
             "color": "#2a3f5f"
            },
            "marker": {
             "line": {
              "color": "#E5ECF6",
              "width": 0.5
             },
             "pattern": {
              "fillmode": "overlay",
              "size": 10,
              "solidity": 0.2
             }
            },
            "type": "bar"
           }
          ],
          "barpolar": [
           {
            "marker": {
             "line": {
              "color": "#E5ECF6",
              "width": 0.5
             },
             "pattern": {
              "fillmode": "overlay",
              "size": 10,
              "solidity": 0.2
             }
            },
            "type": "barpolar"
           }
          ],
          "carpet": [
           {
            "aaxis": {
             "endlinecolor": "#2a3f5f",
             "gridcolor": "white",
             "linecolor": "white",
             "minorgridcolor": "white",
             "startlinecolor": "#2a3f5f"
            },
            "baxis": {
             "endlinecolor": "#2a3f5f",
             "gridcolor": "white",
             "linecolor": "white",
             "minorgridcolor": "white",
             "startlinecolor": "#2a3f5f"
            },
            "type": "carpet"
           }
          ],
          "choropleth": [
           {
            "colorbar": {
             "outlinewidth": 0,
             "ticks": ""
            },
            "type": "choropleth"
           }
          ],
          "contour": [
           {
            "colorbar": {
             "outlinewidth": 0,
             "ticks": ""
            },
            "colorscale": [
             [
              0,
              "#0d0887"
             ],
             [
              0.1111111111111111,
              "#46039f"
             ],
             [
              0.2222222222222222,
              "#7201a8"
             ],
             [
              0.3333333333333333,
              "#9c179e"
             ],
             [
              0.4444444444444444,
              "#bd3786"
             ],
             [
              0.5555555555555556,
              "#d8576b"
             ],
             [
              0.6666666666666666,
              "#ed7953"
             ],
             [
              0.7777777777777778,
              "#fb9f3a"
             ],
             [
              0.8888888888888888,
              "#fdca26"
             ],
             [
              1,
              "#f0f921"
             ]
            ],
            "type": "contour"
           }
          ],
          "contourcarpet": [
           {
            "colorbar": {
             "outlinewidth": 0,
             "ticks": ""
            },
            "type": "contourcarpet"
           }
          ],
          "heatmap": [
           {
            "colorbar": {
             "outlinewidth": 0,
             "ticks": ""
            },
            "colorscale": [
             [
              0,
              "#0d0887"
             ],
             [
              0.1111111111111111,
              "#46039f"
             ],
             [
              0.2222222222222222,
              "#7201a8"
             ],
             [
              0.3333333333333333,
              "#9c179e"
             ],
             [
              0.4444444444444444,
              "#bd3786"
             ],
             [
              0.5555555555555556,
              "#d8576b"
             ],
             [
              0.6666666666666666,
              "#ed7953"
             ],
             [
              0.7777777777777778,
              "#fb9f3a"
             ],
             [
              0.8888888888888888,
              "#fdca26"
             ],
             [
              1,
              "#f0f921"
             ]
            ],
            "type": "heatmap"
           }
          ],
          "heatmapgl": [
           {
            "colorbar": {
             "outlinewidth": 0,
             "ticks": ""
            },
            "colorscale": [
             [
              0,
              "#0d0887"
             ],
             [
              0.1111111111111111,
              "#46039f"
             ],
             [
              0.2222222222222222,
              "#7201a8"
             ],
             [
              0.3333333333333333,
              "#9c179e"
             ],
             [
              0.4444444444444444,
              "#bd3786"
             ],
             [
              0.5555555555555556,
              "#d8576b"
             ],
             [
              0.6666666666666666,
              "#ed7953"
             ],
             [
              0.7777777777777778,
              "#fb9f3a"
             ],
             [
              0.8888888888888888,
              "#fdca26"
             ],
             [
              1,
              "#f0f921"
             ]
            ],
            "type": "heatmapgl"
           }
          ],
          "histogram": [
           {
            "marker": {
             "pattern": {
              "fillmode": "overlay",
              "size": 10,
              "solidity": 0.2
             }
            },
            "type": "histogram"
           }
          ],
          "histogram2d": [
           {
            "colorbar": {
             "outlinewidth": 0,
             "ticks": ""
            },
            "colorscale": [
             [
              0,
              "#0d0887"
             ],
             [
              0.1111111111111111,
              "#46039f"
             ],
             [
              0.2222222222222222,
              "#7201a8"
             ],
             [
              0.3333333333333333,
              "#9c179e"
             ],
             [
              0.4444444444444444,
              "#bd3786"
             ],
             [
              0.5555555555555556,
              "#d8576b"
             ],
             [
              0.6666666666666666,
              "#ed7953"
             ],
             [
              0.7777777777777778,
              "#fb9f3a"
             ],
             [
              0.8888888888888888,
              "#fdca26"
             ],
             [
              1,
              "#f0f921"
             ]
            ],
            "type": "histogram2d"
           }
          ],
          "histogram2dcontour": [
           {
            "colorbar": {
             "outlinewidth": 0,
             "ticks": ""
            },
            "colorscale": [
             [
              0,
              "#0d0887"
             ],
             [
              0.1111111111111111,
              "#46039f"
             ],
             [
              0.2222222222222222,
              "#7201a8"
             ],
             [
              0.3333333333333333,
              "#9c179e"
             ],
             [
              0.4444444444444444,
              "#bd3786"
             ],
             [
              0.5555555555555556,
              "#d8576b"
             ],
             [
              0.6666666666666666,
              "#ed7953"
             ],
             [
              0.7777777777777778,
              "#fb9f3a"
             ],
             [
              0.8888888888888888,
              "#fdca26"
             ],
             [
              1,
              "#f0f921"
             ]
            ],
            "type": "histogram2dcontour"
           }
          ],
          "mesh3d": [
           {
            "colorbar": {
             "outlinewidth": 0,
             "ticks": ""
            },
            "type": "mesh3d"
           }
          ],
          "parcoords": [
           {
            "line": {
             "colorbar": {
              "outlinewidth": 0,
              "ticks": ""
             }
            },
            "type": "parcoords"
           }
          ],
          "pie": [
           {
            "automargin": true,
            "type": "pie"
           }
          ],
          "scatter": [
           {
            "fillpattern": {
             "fillmode": "overlay",
             "size": 10,
             "solidity": 0.2
            },
            "type": "scatter"
           }
          ],
          "scatter3d": [
           {
            "line": {
             "colorbar": {
              "outlinewidth": 0,
              "ticks": ""
             }
            },
            "marker": {
             "colorbar": {
              "outlinewidth": 0,
              "ticks": ""
             }
            },
            "type": "scatter3d"
           }
          ],
          "scattercarpet": [
           {
            "marker": {
             "colorbar": {
              "outlinewidth": 0,
              "ticks": ""
             }
            },
            "type": "scattercarpet"
           }
          ],
          "scattergeo": [
           {
            "marker": {
             "colorbar": {
              "outlinewidth": 0,
              "ticks": ""
             }
            },
            "type": "scattergeo"
           }
          ],
          "scattergl": [
           {
            "marker": {
             "colorbar": {
              "outlinewidth": 0,
              "ticks": ""
             }
            },
            "type": "scattergl"
           }
          ],
          "scattermapbox": [
           {
            "marker": {
             "colorbar": {
              "outlinewidth": 0,
              "ticks": ""
             }
            },
            "type": "scattermapbox"
           }
          ],
          "scatterpolar": [
           {
            "marker": {
             "colorbar": {
              "outlinewidth": 0,
              "ticks": ""
             }
            },
            "type": "scatterpolar"
           }
          ],
          "scatterpolargl": [
           {
            "marker": {
             "colorbar": {
              "outlinewidth": 0,
              "ticks": ""
             }
            },
            "type": "scatterpolargl"
           }
          ],
          "scatterternary": [
           {
            "marker": {
             "colorbar": {
              "outlinewidth": 0,
              "ticks": ""
             }
            },
            "type": "scatterternary"
           }
          ],
          "surface": [
           {
            "colorbar": {
             "outlinewidth": 0,
             "ticks": ""
            },
            "colorscale": [
             [
              0,
              "#0d0887"
             ],
             [
              0.1111111111111111,
              "#46039f"
             ],
             [
              0.2222222222222222,
              "#7201a8"
             ],
             [
              0.3333333333333333,
              "#9c179e"
             ],
             [
              0.4444444444444444,
              "#bd3786"
             ],
             [
              0.5555555555555556,
              "#d8576b"
             ],
             [
              0.6666666666666666,
              "#ed7953"
             ],
             [
              0.7777777777777778,
              "#fb9f3a"
             ],
             [
              0.8888888888888888,
              "#fdca26"
             ],
             [
              1,
              "#f0f921"
             ]
            ],
            "type": "surface"
           }
          ],
          "table": [
           {
            "cells": {
             "fill": {
              "color": "#EBF0F8"
             },
             "line": {
              "color": "white"
             }
            },
            "header": {
             "fill": {
              "color": "#C8D4E3"
             },
             "line": {
              "color": "white"
             }
            },
            "type": "table"
           }
          ]
         },
         "layout": {
          "annotationdefaults": {
           "arrowcolor": "#2a3f5f",
           "arrowhead": 0,
           "arrowwidth": 1
          },
          "autotypenumbers": "strict",
          "coloraxis": {
           "colorbar": {
            "outlinewidth": 0,
            "ticks": ""
           }
          },
          "colorscale": {
           "diverging": [
            [
             0,
             "#8e0152"
            ],
            [
             0.1,
             "#c51b7d"
            ],
            [
             0.2,
             "#de77ae"
            ],
            [
             0.3,
             "#f1b6da"
            ],
            [
             0.4,
             "#fde0ef"
            ],
            [
             0.5,
             "#f7f7f7"
            ],
            [
             0.6,
             "#e6f5d0"
            ],
            [
             0.7,
             "#b8e186"
            ],
            [
             0.8,
             "#7fbc41"
            ],
            [
             0.9,
             "#4d9221"
            ],
            [
             1,
             "#276419"
            ]
           ],
           "sequential": [
            [
             0,
             "#0d0887"
            ],
            [
             0.1111111111111111,
             "#46039f"
            ],
            [
             0.2222222222222222,
             "#7201a8"
            ],
            [
             0.3333333333333333,
             "#9c179e"
            ],
            [
             0.4444444444444444,
             "#bd3786"
            ],
            [
             0.5555555555555556,
             "#d8576b"
            ],
            [
             0.6666666666666666,
             "#ed7953"
            ],
            [
             0.7777777777777778,
             "#fb9f3a"
            ],
            [
             0.8888888888888888,
             "#fdca26"
            ],
            [
             1,
             "#f0f921"
            ]
           ],
           "sequentialminus": [
            [
             0,
             "#0d0887"
            ],
            [
             0.1111111111111111,
             "#46039f"
            ],
            [
             0.2222222222222222,
             "#7201a8"
            ],
            [
             0.3333333333333333,
             "#9c179e"
            ],
            [
             0.4444444444444444,
             "#bd3786"
            ],
            [
             0.5555555555555556,
             "#d8576b"
            ],
            [
             0.6666666666666666,
             "#ed7953"
            ],
            [
             0.7777777777777778,
             "#fb9f3a"
            ],
            [
             0.8888888888888888,
             "#fdca26"
            ],
            [
             1,
             "#f0f921"
            ]
           ]
          },
          "colorway": [
           "#636efa",
           "#EF553B",
           "#00cc96",
           "#ab63fa",
           "#FFA15A",
           "#19d3f3",
           "#FF6692",
           "#B6E880",
           "#FF97FF",
           "#FECB52"
          ],
          "font": {
           "color": "#2a3f5f"
          },
          "geo": {
           "bgcolor": "white",
           "lakecolor": "white",
           "landcolor": "#E5ECF6",
           "showlakes": true,
           "showland": true,
           "subunitcolor": "white"
          },
          "hoverlabel": {
           "align": "left"
          },
          "hovermode": "closest",
          "mapbox": {
           "style": "light"
          },
          "paper_bgcolor": "white",
          "plot_bgcolor": "#E5ECF6",
          "polar": {
           "angularaxis": {
            "gridcolor": "white",
            "linecolor": "white",
            "ticks": ""
           },
           "bgcolor": "#E5ECF6",
           "radialaxis": {
            "gridcolor": "white",
            "linecolor": "white",
            "ticks": ""
           }
          },
          "scene": {
           "xaxis": {
            "backgroundcolor": "#E5ECF6",
            "gridcolor": "white",
            "gridwidth": 2,
            "linecolor": "white",
            "showbackground": true,
            "ticks": "",
            "zerolinecolor": "white"
           },
           "yaxis": {
            "backgroundcolor": "#E5ECF6",
            "gridcolor": "white",
            "gridwidth": 2,
            "linecolor": "white",
            "showbackground": true,
            "ticks": "",
            "zerolinecolor": "white"
           },
           "zaxis": {
            "backgroundcolor": "#E5ECF6",
            "gridcolor": "white",
            "gridwidth": 2,
            "linecolor": "white",
            "showbackground": true,
            "ticks": "",
            "zerolinecolor": "white"
           }
          },
          "shapedefaults": {
           "line": {
            "color": "#2a3f5f"
           }
          },
          "ternary": {
           "aaxis": {
            "gridcolor": "white",
            "linecolor": "white",
            "ticks": ""
           },
           "baxis": {
            "gridcolor": "white",
            "linecolor": "white",
            "ticks": ""
           },
           "bgcolor": "#E5ECF6",
           "caxis": {
            "gridcolor": "white",
            "linecolor": "white",
            "ticks": ""
           }
          },
          "title": {
           "x": 0.05
          },
          "xaxis": {
           "automargin": true,
           "gridcolor": "white",
           "linecolor": "white",
           "ticks": "",
           "title": {
            "standoff": 15
           },
           "zerolinecolor": "white",
           "zerolinewidth": 2
          },
          "yaxis": {
           "automargin": true,
           "gridcolor": "white",
           "linecolor": "white",
           "ticks": "",
           "title": {
            "standoff": 15
           },
           "zerolinecolor": "white",
           "zerolinewidth": 2
          }
         }
        },
        "title": {
         "font": {
          "size": 24
         },
         "text": "Relación de Goles reales y Habilidades de Disparo",
         "x": 0.5,
         "xanchor": "center"
        },
        "xaxis": {
         "anchor": "y",
         "domain": [
          0,
          1
         ],
         "title": {
          "text": "goles"
         }
        },
        "yaxis": {
         "anchor": "x",
         "domain": [
          0,
          1
         ],
         "title": {
          "text": "shooting"
         }
        }
       }
      }
     },
     "metadata": {},
     "output_type": "display_data"
    }
   ],
   "source": [
    "h3 = h3.sort_values(by=\"shooting\",ascending=False)\n",
    "fig = px.scatter(h3, x=\"goles\",y=\"shooting\", color=\"goles\", size=\"shooting\", hover_data=[\"short_name\",\"shooting\",\"goles\"],title=\"Relación stat de shooting y los 10 goleadores\")\n",
    "\n",
    "fig.update_layout(\n",
    "    title={\n",
    "        'text': \"Relación de Goles reales y Habilidades de Disparo\",\n",
    "        'font': {'size': 24},  # Tamaño de la fuente\n",
    "        'x': 0.5,  # Centrar el título\n",
    "        'xanchor': 'center'  # Anclar el título al centro\n",
    "    }\n",
    ")\n",
    "\n",
    "fig.show()"
   ]
  },
  {
   "cell_type": "markdown",
   "metadata": {},
   "source": [
    "### Relación goles reales y habilidades de disparo general de todos los goleadores"
   ]
  },
  {
   "cell_type": "code",
   "execution_count": 337,
   "metadata": {},
   "outputs": [
    {
     "data": {
      "application/vnd.plotly.v1+json": {
       "config": {
        "plotlyServerURL": "https://plot.ly"
       },
       "data": [
        {
         "customdata": [
          [
           "K. Mbappé"
          ],
          [
           "K. Benzema"
          ],
          [
           "C. Immobile"
          ],
          [
           "W. Ben Yedder"
          ],
          [
           "H. Son"
          ],
          [
           "M. Salah"
          ],
          [
           "M. Terrier"
          ],
          [
           "L. Martínez"
          ],
          [
           "O. Dembélé"
          ],
          [
           "Cristiano Ronaldo"
          ],
          [
           "Iago Aspas"
          ],
          [
           "De Tomás"
          ],
          [
           "G. Simeone"
          ],
          [
           "H. Kane"
          ],
          [
           "T. Abraham"
          ],
          [
           "Vinícius Jr."
          ],
          [
           "G. Scamacca"
          ],
          [
           "A. Delort"
          ],
          [
           "Juanmi"
          ],
          [
           "E. Ünal"
          ],
          [
           "S. Mané"
          ],
          [
           "D. Berardi"
          ],
          [
           "J. Vardy"
          ],
          [
           "W. Zaha"
          ],
          [
           "W. Zaha"
          ],
          [
           "Diogo Jota"
          ],
          [
           "Joselu"
          ],
          [
           "M. Bayo"
          ],
          [
           "W. Zaha"
          ],
          [
           "W. Zaha"
          ],
          [
           "M. Arnautović"
          ],
          [
           "Morales"
          ],
          [
           "A. Pinamonti"
          ],
          [
           "Neymar Jr"
          ],
          [
           "E. Džeko"
          ],
          [
           "Deulofeu"
          ],
          [
           "M. Pašalić"
          ],
          [
           "João Pedro"
          ],
          [
           "R. Sterling"
          ],
          [
           "M. Depay"
          ],
          [
           "J. Bowen"
          ],
          [
           "L. Ajorque"
          ],
          [
           "G. Caprari"
          ],
          [
           "D. Praet"
          ],
          [
           "G. Laborde"
          ],
          [
           "R. Kolo Muani"
          ],
          [
           "A. Kalimuendo"
          ],
          [
           "K. Toko Ekambi"
          ],
          [
           "Á. Correa"
          ],
          [
           "I. Toney"
          ],
          [
           "J. Maddison"
          ],
          [
           "B. Saka"
          ],
          [
           "P. Aubameyang"
          ],
          [
           "O. Giroud"
          ],
          [
           "R. Mahrez"
          ],
          [
           "Raphinha"
          ],
          [
           "Rafael Leão"
          ],
          [
           "Hwang Ui Jo"
          ],
          [
           "M. Mount"
          ],
          [
           "A. Barák"
          ],
          [
           "S. Milinković-Savić"
          ],
          [
           "B. Bourigeaud"
          ],
          [
           "F. Honorat"
          ],
          [
           "K. Gameiro"
          ],
          [
           "I. Diallo"
          ],
          [
           "F. Caputo"
          ],
          [
           "Beto"
          ],
          [
           "O. Watkins"
          ],
          [
           "D. Zapata"
          ],
          [
           "Carlos Soler"
          ],
          [
           "L. Insigne"
          ],
          [
           "D. Mertens"
          ],
          [
           "T. Pukki"
          ],
          [
           "L. Suárez"
          ],
          [
           "Gonçalo Guedes"
          ],
          [
           "Jorge Molina"
          ],
          [
           "Bruno Fernandes"
          ],
          [
           "E. Wahi"
          ],
          [
           "W. Khazri"
          ],
          [
           "A. Danjuma"
          ],
          [
           "E. Smith Rowe"
          ],
          [
           "E. Dennis"
          ],
          [
           "M. Antonio"
          ],
          [
           "Richarlison"
          ],
          [
           "L. Blas"
          ],
          [
           "G. Raspadori"
          ],
          [
           "F. Bonazzoli"
          ],
          [
           "Borja Iglesias"
          ],
          [
           "Marco Asensio"
          ],
          [
           "C. Ünder"
          ],
          [
           "P. Dybala"
          ],
          [
           "Rafa Mir"
          ],
          [
           "J. Ward-Prowse"
          ],
          [
           "A. Gouiri"
          ],
          [
           "K. Volland"
          ],
          [
           "S. Mounié"
          ],
          [
           "Lucas Paquetá"
          ],
          [
           "T. Henry"
          ],
          [
           "D. Bouanga"
          ],
          [
           "Gerard Moreno"
          ],
          [
           "L. Muriel"
          ],
          [
           "L. Pellegrini"
          ],
          [
           "Morata"
          ],
          [
           "P. Foden"
          ],
          [
           "Gerson"
          ],
          [
           "Willian José"
          ],
          [
           "Oyarzabal"
          ],
          [
           "M. Destro"
          ],
          [
           "Pedri"
          ],
          [
           "S. Benrahma"
          ],
          [
           "K. Havertz"
          ],
          [
           "Pere Milla"
          ],
          [
           "C. Gallagher"
          ],
          [
           "S. Fofana"
          ],
          [
           "Sergi Guardiola"
          ],
          [
           "Iñaki Williams"
          ],
          [
           "A. Belotti"
          ],
          [
           "Z. Ibrahimović"
          ],
          [
           "R. Lukaku"
          ],
          [
           "L. Suárez"
          ],
          [
           "Gabriel Jesus"
          ],
          [
           "N. Maupay"
          ],
          [
           "A. Budimir"
          ],
          [
           "I. Perišić"
          ],
          [
           "C. Wilson"
          ],
          [
           "D. Verde"
          ],
          [
           "João Félix"
          ],
          [
           "İ. Gündoğan"
          ],
          [
           "J. Harrison"
          ],
          [
           "L. Trossard"
          ],
          [
           "Bernardo Silva"
          ],
          [
           "Hugo Duro"
          ],
          [
           "M. Ødegaard"
          ],
          [
           "M. Aramu"
          ],
          [
           "D. Okereke"
          ],
          [
           "Álvaro García"
          ],
          [
           "Santi Mina"
          ],
          [
           "J. Brekalo"
          ],
          [
           "A. Candreva"
          ],
          [
           "M. Gabbiadini"
          ],
          [
           "C. Adams"
          ],
          [
           "Y. Wissa"
          ],
          [
           "Rodri"
          ],
          [
           "Fabinho"
          ],
          [
           "Melero"
          ],
          [
           "H. Çalhanoğlu"
          ],
          [
           "D. Vlahović"
          ],
          [
           "Nico González"
          ],
          [
           "Negredo"
          ],
          [
           "L. Messi"
          ],
          [
           "R. Jiménez"
          ],
          [
           "P. Zieliński"
          ],
          [
           "H. Lozano"
          ],
          [
           "O. Edouard"
          ],
          [
           "Matheus Cunha"
          ],
          [
           "Jorginho"
          ],
          [
           "N. Bajrami"
          ],
          [
           "A. Lookman"
          ],
          [
           "Felipe Anderson"
          ],
          [
           "D. Welbeck"
          ],
          [
           "Á. Correa"
          ],
          [
           "Y. Carrasco"
          ],
          [
           "J. Ramsey"
          ],
          [
           "A. Isak"
          ],
          [
           "S. Żurkowski"
          ],
          [
           "N. Fekir"
          ],
          [
           "Falcao"
          ],
          [
           "L. de Jong"
          ],
          [
           "R. Malinovskyi"
          ],
          [
           "Raúl García"
          ],
          [
           "Yeremy Pino"
          ],
          [
           "Manu Trigueros"
          ],
          [
           "R. Orsolini"
          ],
          [
           "M. Barrow"
          ],
          [
           "Pablo Fornals"
          ],
          [
           "A. Sanabria"
          ],
          [
           "A. Barnes"
          ],
          [
           "D. Criscito"
          ],
          [
           "L. Ocampos"
          ],
          [
           "Y. Tielemans"
          ],
          [
           "Borja Mayoral"
          ],
          [
           "E. Gyasi"
          ],
          [
           "A. Broja"
          ],
          [
           "J. Clauss"
          ],
          [
           "H. Lozano"
          ],
          [
           "A. Saint-Maximin"
          ],
          [
           "Sergi Canós"
          ],
          [
           "Hwang Hee Chan"
          ],
          [
           "T. Hernández"
          ],
          [
           "Salva Sevilla"
          ],
          [
           "Salvi Sánchez"
          ],
          [
           "M. Lanzini"
          ],
          [
           "Junior Messias"
          ],
          [
           "S. Tonali"
          ],
          [
           "Fabinho"
          ],
          [
           "H. Mkhitaryan"
          ],
          [
           "A. Mac Allister"
          ],
          [
           "F. Di Francesco"
          ],
          [
           "Juan Mata"
          ],
          [
           "L. Bonucci"
          ],
          [
           "E. Lamela"
          ],
          [
           "Y. En-Nesyri"
          ],
          [
           "Fidel"
          ],
          [
           "D. Calvert-Lewin"
          ],
          [
           "L. Pavoletti"
          ],
          [
           "G. Escalante"
          ],
          [
           "V. Muriqi"
          ],
          [
           "P. Daka"
          ],
          [
           "S. Greenwood"
          ],
          [
           "Álex Moreno"
          ],
          [
           "Pau Torres"
          ],
          [
           "Roberto Firmino"
          ],
          [
           "M. Gómez"
          ],
          [
           "D. Dumfries"
          ],
          [
           "Luis Alberto"
          ],
          [
           "S. Verdi"
          ],
          [
           "S. Lukić"
          ],
          [
           "Kike García"
          ],
          [
           "D. Kulusevski"
          ],
          [
           "R. Manaj"
          ],
          [
           "D. Gray"
          ],
          [
           "L. Torreira"
          ],
          [
           "Coutinho"
          ],
          [
           "T. Souček"
          ],
          [
           "I. Sarr"
          ],
          [
           "E. Nketiah"
          ],
          [
           "M. Đurić"
          ],
          [
           "L. Coulibaly"
          ],
          [
           "A. Hickey"
          ],
          [
           "R. James"
          ],
          [
           "B. Dia"
          ],
          [
           "Marcos Alonso"
          ],
          [
           "Denis Suárez"
          ],
          [
           "Brais Méndez"
          ],
          [
           "A. Rrahmani"
          ],
          [
           "Ansu Fati"
          ],
          [
           "Rúben Neves"
          ],
          [
           "C. Biraghi"
          ],
          [
           "H. Ziyech"
          ],
          [
           "Joelinton"
          ],
          [
           "F. Quagliarella"
          ],
          [
           "B. Mbeumo"
          ],
          [
           "T. Werner"
          ],
          [
           "V. Janelt"
          ],
          [
           "I. Pussetto"
          ],
          [
           "A. Tameze"
          ],
          [
           "M. Thuram"
          ],
          [
           "Fred"
          ],
          [
           "D. Frattesi"
          ],
          [
           "G. Bonaventura"
          ],
          [
           "Muniain"
          ],
          [
           "Dani García"
          ],
          [
           "C. Benteke"
          ],
          [
           "M. Cash"
          ],
          [
           "A. Laporte"
          ],
          [
           "T. Lemar"
          ],
          [
           "M. Elyounoussi"
          ],
          [
           "A. Gordon"
          ],
          [
           "J. Bednarek"
          ],
          [
           "Ferran Torres"
          ],
          [
           "M. Rashford"
          ],
          [
           "T. Pobega"
          ],
          [
           "M. Satriano"
          ],
          [
           "F. Acerbi"
          ],
          [
           "K. Iheanacho"
          ],
          [
           "I. Rakitić"
          ],
          [
           "A. Gómez"
          ],
          [
           "D. James"
          ],
          [
           "G. Pereiro"
          ],
          [
           "E. Buendía"
          ],
          [
           "Rubén Sobrino"
          ],
          [
           "J. Schlupp"
          ],
          [
           "Pedraza"
          ],
          [
           "Ángel"
          ],
          [
           "C. Coady"
          ],
          [
           "A. Deiola"
          ],
          [
           "J. Cuadrado"
          ],
          [
           "A. Lacazette"
          ],
          [
           "Rodrigo"
          ],
          [
           "Aritz Elustondo"
          ],
          [
           "A. Sørloth"
          ],
          [
           "T. Koopmeiners"
          ],
          [
           "J. Veretout"
          ],
          [
           "M. Zaccagni"
          ],
          [
           "S. Bergwijn"
          ],
          [
           "M. Thorsby"
          ],
          [
           "R. Sottil"
          ],
          [
           "Pedri"
          ],
          [
           "K. Koulibaly"
          ],
          [
           "M. Politano"
          ],
          [
           "Abdón Prats"
          ],
          [
           "M. Svanberg"
          ],
          [
           "Sergi Darder"
          ],
          [
           "B. Chilwell"
          ],
          [
           "W. Singo"
          ],
          [
           "K. Agudelo"
          ],
          [
           "L. Martínez"
          ],
          [
           "N. Barella"
          ],
          [
           "N. Keïta"
          ],
          [
           "J. Matip"
          ],
          [
           "Tete Morente"
          ],
          [
           "P. Cutrone"
          ],
          [
           "R. Nteka"
          ],
          [
           "J. Iličić"
          ],
          [
           "M. Caldara"
          ],
          [
           "T. Chalobah"
          ],
          [
           "K. Piątek"
          ],
          [
           "M. Škriniar"
          ],
          [
           "R. Henry"
          ],
          [
           "P. Jansson"
          ],
          [
           "Luis Milla"
          ],
          [
           "Sandro"
          ],
          [
           "R. Pereyra"
          ],
          [
           "L. Hernández"
          ],
          [
           "Álex Berenguer"
          ],
          [
           "M. Silvestri"
          ],
          [
           "R. De Paul"
          ],
          [
           "A. Rüdiger"
          ],
          [
           "C. Nørgaard"
          ],
          [
           "Sergi Canós"
          ],
          [
           "R. Saponara"
          ],
          [
           "E. Elmas"
          ],
          [
           "Lucas Vázquez"
          ],
          [
           "A. Petagna"
          ],
          [
           "F. de Jong"
          ],
          [
           "J. Sancho"
          ],
          [
           "M. Lazzari"
          ],
          [
           "T. Minamino"
          ],
          [
           "A. Januzaj"
          ],
          [
           "H. Traoré"
          ],
          [
           "S. Bastoni"
          ],
          [
           "Soldado"
          ],
          [
           "E. Bardhi"
          ],
          [
           "A. Griezmann"
          ],
          [
           "R. Skov"
          ],
          [
           "B. Mee"
          ],
          [
           "Bremer"
          ],
          [
           "V. van Dijk"
          ],
          [
           "M. Pjaca"
          ],
          [
           "J. Grealish"
          ],
          [
           "S. El Shaarawy"
          ],
          [
           "Diego Carlos"
          ],
          [
           "Diego Llorente"
          ],
          [
           "M. Keane"
          ],
          [
           "Rober Ibáñez"
          ],
          [
           "João Pedro"
          ],
          [
           "Lucas Pérez"
          ],
          [
           "C. Smalling"
          ],
          [
           "J. McGinn"
          ],
          [
           "E. Shomurodov"
          ],
          [
           "Thiago Silva"
          ],
          [
           "A. Townsend"
          ],
          [
           "M. Locatelli"
          ],
          [
           "W. McKennie"
          ],
          [
           "Dani Rodríguez"
          ],
          [
           "Laguardia"
          ],
          [
           "S. Chukwueze"
          ],
          [
           "Alberto Moreno"
          ],
          [
           "M. Sissoko"
          ],
          [
           "M. Sissoko"
          ],
          [
           "Manu Morlanes"
          ],
          [
           "M. Olise"
          ],
          [
           "Iván Alejo"
          ],
          [
           "L. Dendoncker"
          ],
          [
           "Trincão"
          ],
          [
           "Mario Hermoso"
          ],
          [
           "Renan Lodi"
          ],
          [
           "N. Sansone"
          ],
          [
           "L. Cabrera"
          ],
          [
           "Aleix Vidal"
          ],
          [
           "I. Success"
          ],
          [
           "N. Kanté"
          ],
          [
           "R. Saïss"
          ],
          [
           "Daniel Podence"
          ],
          [
           "Pablo Marí"
          ],
          [
           "A. Cresswell"
          ],
          [
           "I. Bennacer"
          ],
          [
           "Arthur"
          ],
          [
           "F. Chiesa"
          ],
          [
           "F. Bandinelli"
          ],
          [
           "J. Rodríguez"
          ],
          [
           "A. Doucouré"
          ],
          [
           "Moncayola"
          ],
          [
           "M. Loum"
          ],
          [
           "A. Touré"
          ],
          [
           "J. Mojica"
          ],
          [
           "L. Ayling"
          ],
          [
           "J. Koundé"
          ],
          [
           "B. Cristante"
          ],
          [
           "N. Zaniolo"
          ],
          [
           "Fernando"
          ],
          [
           "J. Gelhardt"
          ],
          [
           "L. Thomas"
          ],
          [
           "L. Thomas"
          ],
          [
           "Campaña"
          ],
          [
           "Gabriel Paulista"
          ],
          [
           "M. Gómez"
          ],
          [
           "O. Alderete"
          ],
          [
           "T. Delaney"
          ],
          [
           "Munir"
          ],
          [
           "Óliver Torres"
          ],
          [
           "Oriol Romeu"
          ],
          [
           "S. Armstrong"
          ],
          [
           "M. Darmian"
          ],
          [
           "R. Gagliardini"
          ],
          [
           "F. Dimarco"
          ],
          [
           "Patric"
          ],
          [
           "P. Bamford"
          ],
          [
           "Zubimendi"
          ],
          [
           "K. Trippier"
          ],
          [
           "Felipe"
          ],
          [
           "A. Sánchez"
          ],
          [
           "S. Armstrong"
          ],
          [
           "G. Maggiore"
          ],
          [
           "A. Iwobi"
          ],
          [
           "M. Holgate"
          ],
          [
           "Jordi Alba"
          ],
          [
           "L. Samardžić"
          ],
          [
           "Ó. Duarte"
          ],
          [
           "P. Groß"
          ],
          [
           "A. Webster"
          ],
          [
           "N. Aké"
          ],
          [
           "E. Cavani"
          ],
          [
           "E. Mwepu"
          ],
          [
           "T. Alexander-Arnold"
          ],
          [
           "P. Højbjerg"
          ],
          [
           "E. Konsa"
          ],
          [
           "Douglas Luiz"
          ],
          [
           "M. Erlić"
          ],
          [
           "Kike García"
          ],
          [
           "Roberto Torres"
          ],
          [
           "M. Brozović"
          ],
          [
           "A. Sánchez"
          ],
          [
           "J. Henderson"
          ],
          [
           "J. Henderson"
          ],
          [
           "A. Oxlade-Chamberlain"
          ],
          [
           "E. Camavinga"
          ],
          [
           "David Silva"
          ],
          [
           "Ederson"
          ],
          [
           "Rúben Dias"
          ],
          [
           "Josan"
          ],
          [
           "L. Štulac"
          ],
          [
           "A. La Mantia"
          ],
          [
           "P. Ceccaroni"
          ],
          [
           "W. Weghorst"
          ],
          [
           "Parejo"
          ],
          [
           "P. Ciss"
          ],
          [
           "Cristian Tello"
          ],
          [
           "J. Lingard"
          ],
          [
           "J. Lingard"
          ],
          [
           "A. Diallo"
          ],
          [
           "J. Brandt"
          ],
          [
           "G. Defrel"
          ],
          [
           "M. Lopez"
          ],
          [
           "N. González"
          ],
          [
           "A. Miranchuk"
          ],
          [
           "K. Lasagna"
          ],
          [
           "J. Brownhill"
          ],
          [
           "M. Vydra"
          ],
          [
           "A. Lennon"
          ],
          [
           "D. Praet"
          ],
          [
           "L. Coulibaly"
          ],
          [
           "Lucas Moura"
          ],
          [
           "Germán"
          ],
          [
           "Escudero"
          ],
          [
           "M. Doherty"
          ],
          [
           "M. Yoshida"
          ],
          [
           "L. Modrić"
          ],
          [
           "D. Alaba"
          ],
          [
           "F. Mendy"
          ],
          [
           "A. Ounas"
          ],
          [
           "J. Shelvey"
          ],
          [
           "R. Fraser"
          ],
          [
           "J. Willock"
          ],
          [
           "A. Elanga"
          ],
          [
           "M. Kovačić"
          ],
          [
           "Fer Niño"
          ],
          [
           "Y. Maleh"
          ],
          [
           "Sergio Busquets"
          ],
          [
           "Sergi Roberto"
          ],
          [
           "M. Braithwaite"
          ],
          [
           "Álex Collado"
          ],
          [
           "Gavi"
          ],
          [
           "Catena"
          ],
          [
           "F. Coquelin"
          ],
          [
           "S. Andersson"
          ],
          [
           "A. Romagnoli"
          ],
          [
           "João Moutinho"
          ],
          [
           "Jonny"
          ],
          [
           "Thiago Galhardo"
          ],
          [
           "J. Sargent"
          ],
          [
           "A. Theate"
          ],
          [
           "A. Florenzi"
          ],
          [
           "Nolito"
          ],
          [
           "A. Rebić"
          ],
          [
           "C. Dawson"
          ],
          [
           "M. Kilman"
          ],
          [
           "S. Arzamendia"
          ],
          [
           "V. Haroyan"
          ],
          [
           "José Mari"
          ],
          [
           "J. Tomkins"
          ],
          [
           "E. Eze"
          ],
          [
           "J. Guilavogui"
          ],
          [
           "G. Busio"
          ],
          [
           "S. Kiyine"
          ],
          [
           "D. Johnsen"
          ],
          [
           "M. Caldara"
          ],
          [
           "R. Haps"
          ],
          [
           "Cristian Rivero"
          ],
          [
           "D. Zapata"
          ],
          [
           "K. Hause"
          ],
          [
           "P. Stojanović"
          ],
          [
           "Bigas"
          ],
          [
           "Y. Herrera"
          ],
          [
           "G. Kondogbia"
          ],
          [
           "Š. Vrsaljko"
          ],
          [
           "Dani Olmo"
          ],
          [
           "A. Omobamidele"
          ],
          [
           "A. Idah"
          ],
          [
           "K. Dowell"
          ],
          [
           "K. McLean"
          ],
          [
           "G. Hanley"
          ],
          [
           "P. Lees-Melou"
          ],
          [
           "José Fontán"
          ],
          [
           "Fran Beltrán"
          ],
          [
           "J. Murillo"
          ],
          [
           "Hugo Mallo"
          ],
          [
           "F. Santander"
          ],
          [
           "J. Schouten"
          ],
          [
           "M. Normann"
          ],
          [
           "M. Rashica"
          ],
          [
           "S. Longstaff"
          ],
          [
           "J. Murphy"
          ],
          [
           "I. Hayden"
          ],
          [
           "M. Almirón"
          ],
          [
           "J. Lascelles"
          ],
          [
           "Juan Jesus"
          ],
          [
           "Antonio Sánchez"
          ],
          [
           "T. Kubo"
          ],
          [
           "Pablo Maffeo"
          ],
          [
           "Nico Melamed"
          ],
          [
           "Adrià Pedrosa"
          ],
          [
           "Wu Lei"
          ],
          [
           "K. Bare"
          ],
          [
           "Sergi Gómez"
          ],
          [
           "D. Zakaria"
          ],
          [
           "S. McTominay"
          ],
          [
           "D. van de Beek"
          ],
          [
           "H. Maguire"
          ],
          [
           "Edgar"
          ],
          [
           "G. Pezzella"
          ],
          [
           "G. Rodríguez"
          ],
          [
           "Santi Comesaña"
          ],
          [
           "Bebé"
          ],
          [
           "I. Balliu"
          ],
          [
           "Brian Oliván"
          ],
          [
           "S. Lobotka"
          ],
          [
           "G. Di Lorenzo"
          ],
          [
           "D. Demme"
          ],
          [
           "S. Ghoddos"
          ],
          [
           "Zanka"
          ],
          [
           "J. Stones"
          ],
          [
           "Rodri"
          ],
          [
           "João Cancelo"
          ],
          [
           "Ederson"
          ],
          [
           "C. Jones"
          ],
          [
           "Portu"
          ],
          [
           "Mariano"
          ],
          [
           "L. Jović"
          ],
          [
           "Éder Militão"
          ],
          [
           "Isco"
          ],
          [
           "G. Bale"
          ],
          [
           "F. Mendy"
          ],
          [
           "T. Kroos"
          ],
          [
           "Casemiro"
          ],
          [
           "E. Pinnock"
          ],
          [
           "K. Ajer"
          ],
          [
           "Son"
          ],
          [
           "Ó. Duarte"
          ],
          [
           "S. Mustafi"
          ],
          [
           "Jorge Miramón"
          ],
          [
           "Koke"
          ],
          [
           "Nico Serrano"
          ],
          [
           "De Marcos"
          ],
          [
           "De Marcos"
          ],
          [
           "Dani García"
          ],
          [
           "Barrenetxea"
          ],
          [
           "R. Le Normand"
          ],
          [
           "Thiago"
          ],
          [
           "J. Cork"
          ],
          [
           "J. Tarkowski"
          ],
          [
           "R. Varane"
          ],
          [
           "P. Pogba"
          ],
          [
           "T. Castagne"
          ],
          [
           "Ç. Söyüncü"
          ],
          [
           "Ricardo Pereira"
          ],
          [
           "T. Roberts"
          ],
          [
           "P. Struijk"
          ],
          [
           "E. Bove"
          ],
          [
           "Carles Pérez"
          ],
          [
           "F. Fazio"
          ],
          [
           "L. Pellegrini"
          ],
          [
           "J. Giménez"
          ],
          [
           "J. Veltman"
          ],
          [
           "L. Dunk"
          ],
          [
           "Y. Bissouma"
          ],
          [
           "Cucurella"
          ],
          [
           "S. Baptiste"
          ],
          [
           "M. Roerslev"
          ],
          [
           "K. Walker-Peters"
          ],
          [
           "M. De Sciglio"
          ],
          [
           "F. Bernardeschi"
          ],
          [
           "M. Vecino"
          ],
          [
           "I. Amadou"
          ],
          [
           "O. Idrissi"
          ],
          [
           "M. Dmitrović"
          ],
          [
           "T. Delaney"
          ],
          [
           "Fernando"
          ],
          [
           "S. Dallas"
          ],
          [
           "Raphinha"
          ],
          [
           "D. Cataldi"
          ],
          [
           "E. Hysaj"
          ],
          [
           "A. Marušić"
          ],
          [
           "K. Dewsbury-Hall"
          ],
          [
           "M. Albrighton"
          ],
          [
           "M. Bourabia"
          ],
          [
           "D. D'Ambrosio"
          ],
          [
           "A. Bastoni"
          ],
          [
           "S. Sensi"
          ],
          [
           "A. Sánchez"
          ],
          [
           "C. Eriksen"
          ],
          [
           "D. Brašanac"
          ],
          [
           "Oier"
          ],
          [
           "Cote"
          ],
          [
           "J. Sala"
          ],
          [
           "K. Amian"
          ],
          [
           "V. Kovalenko"
          ],
          [
           "V. Kovalenko"
          ],
          [
           "T. Livramento"
          ],
          [
           "S. Long"
          ],
          [
           "N. Redmond"
          ],
          [
           "Rubén García"
          ],
          [
           "C. Roberts"
          ],
          [
           "J. Guðmundsson"
          ],
          [
           "J. Guðmundsson"
          ],
          [
           "M. Lowton"
          ],
          [
           "M. Cancellieri"
          ],
          [
           "I. Ilić"
          ],
          [
           "D. Bessa"
          ],
          [
           "J. Mæhle"
          ],
          [
           "J. Palomino"
          ],
          [
           "M. Pessina"
          ],
          [
           "B. Djimsiti"
          ],
          [
           "R. Freuler"
          ],
          [
           "Rafael Tolói"
          ],
          [
           "P. Hristov"
          ],
          [
           "J. Antiste"
          ],
          [
           "N. Murru"
          ],
          [
           "A. Ekdal"
          ],
          [
           "B. Davies"
          ],
          [
           "F. Ceccherini"
          ],
          [
           "Víctor Díaz"
          ],
          [
           "S. Arias"
          ],
          [
           "Jorge Cuenca"
          ],
          [
           "M. Olivera"
          ],
          [
           "N. Maksimović"
          ],
          [
           "Mata"
          ],
          [
           "F. Melegoni"
          ],
          [
           "A. Cambiaso"
          ],
          [
           "M. Portanova"
          ],
          [
           "J. Vásquez"
          ],
          [
           "G. Lo Celso"
          ],
          [
           "M. Demiral"
          ],
          [
           "O. Dembélé"
          ],
          [
           "Piqué"
          ],
          [
           "I. Radovanović"
          ],
          [
           "C. Ekuban"
          ],
          [
           "M. Badelj"
          ],
          [
           "N. Milenković"
          ],
          [
           "L. Martínez Quarta"
          ],
          [
           "S. Amrabat"
          ],
          [
           "G. Castrovilli"
          ],
          [
           "D. Vlahović"
          ],
          [
           "Odriozola"
          ],
          [
           "G. Ferrari"
          ],
          [
           "K. Ayhan"
          ],
          [
           "A. Ferrari"
          ],
          [
           "T. Augello"
          ],
          [
           "F. Depaoli"
          ],
          [
           "A. Doucouré"
          ],
          [
           "G. Altare"
          ],
          [
           "R. Bellanova"
          ],
          [
           "C. Lykogiannis"
          ],
          [
           "J. Makengo"
          ],
          [
           "I. Nestorovski"
          ],
          [
           "Walace"
          ],
          [
           "T. Arslan"
          ],
          [
           "B. Nuytinck"
          ],
          [
           "N. Zortea"
          ],
          [
           "L. Ranieri"
          ],
          [
           "G. Kastanos"
          ],
          [
           "A. Schiavone"
          ],
          [
           "José Callejón"
          ],
          [
           "Riqui Puig"
          ],
          [
           "M. Braithwaite"
          ],
          [
           "E. Roco"
          ],
          [
           "Luis Rioja"
          ],
          [
           "L. Ceppitelli"
          ],
          [
           "Javi Martínez"
          ],
          [
           "Rober Ibáñez"
          ],
          [
           "Lucas Torró"
          ],
          [
           "Iñigo Pérez"
          ],
          [
           "T. Mings"
          ],
          [
           "A. Young"
          ],
          [
           "L. Bailey"
          ],
          [
           "Nuno Tavares"
          ],
          [
           "Hugo Guillamón"
          ],
          [
           "Manu Vallejo"
          ],
          [
           "T. Davies"
          ],
          [
           "S. Rondón"
          ],
          [
           "S. Coleman"
          ],
          [
           "A. Conti"
          ],
          [
           "A. Masuaku"
          ],
          [
           "T. Hernández"
          ],
          [
           "A. Romagnoli"
          ],
          [
           "N. Pépé"
          ],
          [
           "De La Fuente"
          ],
          [
           "J. Foyth"
          ],
          [
           "E. Capoue"
          ],
          [
           "A. Mandi"
          ],
          [
           "Paco Alcácer"
          ],
          [
           "C. Hudson-Odoi"
          ],
          [
           "R. Barkley"
          ],
          [
           "Azpilicueta"
          ],
          [
           "R. Aït Nouri"
          ],
          [
           "Edgar Méndez"
          ],
          [
           "Pere Pons"
          ],
          [
           "N. Vlašić"
          ],
          [
           "A. Ogbonna"
          ],
          [
           "K. Zouma"
          ],
          [
           "D. Rice"
          ],
          [
           "D. Gosling"
          ],
          [
           "J. Kucka"
          ],
          [
           "C. Chambers"
          ],
          [
           "R. Holding"
          ],
          [
           "G. Xhaka"
          ],
          [
           "K. Tierney"
          ],
          [
           "Pedro Neto"
          ],
          [
           "B. Johnson"
          ],
          [
           "M. Noble"
          ],
          [
           "A. Yarmolenko"
          ],
          [
           "D. Maldini"
          ],
          [
           "A. Saelemaekers"
          ]
         ],
         "hovertemplate": "shooting=%{x}<br>goles=%{marker.color}<br>short_name=%{customdata[0]}<extra></extra>",
         "legendgroup": "",
         "marker": {
          "color": [
           28,
           27,
           27,
           25,
           23,
           23,
           21,
           21,
           21,
           18,
           17,
           17,
           17,
           17,
           17,
           17,
           16,
           16,
           16,
           16,
           16,
           15,
           15,
           15,
           15,
           15,
           14,
           14,
           14,
           14,
           14,
           13,
           13,
           13,
           13,
           13,
           13,
           13,
           13,
           12,
           12,
           12,
           12,
           12,
           12,
           12,
           12,
           12,
           12,
           12,
           12,
           11,
           11,
           11,
           11,
           11,
           11,
           11,
           11,
           11,
           11,
           11,
           11,
           11,
           11,
           11,
           11,
           11,
           11,
           11,
           11,
           11,
           11,
           11,
           11,
           10,
           10,
           10,
           10,
           10,
           10,
           10,
           10,
           10,
           10,
           10,
           10,
           10,
           10,
           10,
           10,
           10,
           10,
           10,
           9,
           9,
           9,
           9,
           9,
           9,
           9,
           9,
           9,
           9,
           9,
           9,
           9,
           9,
           9,
           8,
           8,
           8,
           8,
           8,
           8,
           8,
           8,
           8,
           8,
           8,
           8,
           8,
           8,
           8,
           8,
           8,
           8,
           8,
           8,
           8,
           8,
           7,
           7,
           7,
           7,
           7,
           7,
           7,
           7,
           7,
           7,
           7,
           7,
           7,
           7,
           7,
           7,
           7,
           7,
           6,
           6,
           6,
           6,
           6,
           6,
           6,
           6,
           6,
           6,
           6,
           6,
           6,
           6,
           6,
           6,
           6,
           6,
           6,
           6,
           6,
           6,
           6,
           6,
           6,
           6,
           6,
           6,
           6,
           6,
           6,
           6,
           6,
           6,
           5,
           5,
           5,
           5,
           5,
           5,
           5,
           5,
           5,
           5,
           5,
           5,
           5,
           5,
           5,
           5,
           5,
           5,
           5,
           5,
           5,
           5,
           5,
           5,
           5,
           5,
           5,
           5,
           5,
           5,
           5,
           5,
           5,
           5,
           5,
           5,
           5,
           5,
           5,
           5,
           5,
           5,
           5,
           5,
           5,
           5,
           5,
           5,
           4,
           4,
           4,
           4,
           4,
           4,
           4,
           4,
           4,
           4,
           4,
           4,
           4,
           4,
           4,
           4,
           4,
           4,
           4,
           4,
           4,
           4,
           4,
           4,
           4,
           4,
           4,
           4,
           4,
           4,
           4,
           4,
           4,
           4,
           4,
           4,
           4,
           4,
           4,
           4,
           4,
           4,
           4,
           4,
           4,
           4,
           4,
           4,
           4,
           4,
           4,
           4,
           4,
           3,
           3,
           3,
           3,
           3,
           3,
           3,
           3,
           3,
           3,
           3,
           3,
           3,
           3,
           3,
           3,
           3,
           3,
           3,
           3,
           3,
           3,
           3,
           3,
           3,
           3,
           3,
           3,
           3,
           3,
           3,
           3,
           3,
           3,
           3,
           3,
           3,
           3,
           3,
           3,
           3,
           3,
           3,
           3,
           3,
           3,
           3,
           3,
           3,
           3,
           3,
           3,
           3,
           3,
           3,
           3,
           3,
           3,
           3,
           3,
           3,
           3,
           3,
           3,
           3,
           3,
           3,
           3,
           3,
           3,
           3,
           3,
           3,
           3,
           2,
           2,
           2,
           2,
           2,
           2,
           2,
           2,
           2,
           2,
           2,
           2,
           2,
           2,
           2,
           2,
           2,
           2,
           2,
           2,
           2,
           2,
           2,
           2,
           2,
           2,
           2,
           2,
           2,
           2,
           2,
           2,
           2,
           2,
           2,
           2,
           2,
           2,
           2,
           2,
           2,
           2,
           2,
           2,
           2,
           2,
           2,
           2,
           2,
           2,
           2,
           2,
           2,
           2,
           2,
           2,
           2,
           2,
           2,
           2,
           2,
           2,
           2,
           2,
           2,
           2,
           2,
           2,
           2,
           2,
           2,
           2,
           2,
           2,
           2,
           2,
           2,
           2,
           2,
           2,
           2,
           2,
           2,
           2,
           2,
           2,
           2,
           2,
           2,
           2,
           2,
           2,
           2,
           2,
           2,
           2,
           2,
           2,
           2,
           2,
           2,
           2,
           2,
           2,
           2,
           2,
           2,
           2,
           2,
           2,
           2,
           2,
           2,
           2,
           2,
           2,
           2,
           2,
           2,
           2,
           2,
           2,
           2,
           2,
           2,
           2,
           2,
           2,
           2,
           2,
           2,
           2,
           2,
           2,
           2,
           2,
           2,
           2,
           1,
           1,
           1,
           1,
           1,
           1,
           1,
           1,
           1,
           1,
           1,
           1,
           1,
           1,
           1,
           1,
           1,
           1,
           1,
           1,
           1,
           1,
           1,
           1,
           1,
           1,
           1,
           1,
           1,
           1,
           1,
           1,
           1,
           1,
           1,
           1,
           1,
           1,
           1,
           1,
           1,
           1,
           1,
           1,
           1,
           1,
           1,
           1,
           1,
           1,
           1,
           1,
           1,
           1,
           1,
           1,
           1,
           1,
           1,
           1,
           1,
           1,
           1,
           1,
           1,
           1,
           1,
           1,
           1,
           1,
           1,
           1,
           1,
           1,
           1,
           1,
           1,
           1,
           1,
           1,
           1,
           1,
           1,
           1,
           1,
           1,
           1,
           1,
           1,
           1,
           1,
           1,
           1,
           1,
           1,
           1,
           1,
           1,
           1,
           1,
           1,
           1,
           1,
           1,
           1,
           1,
           1,
           1,
           1,
           1,
           1,
           1,
           1,
           1,
           1,
           1,
           1,
           1,
           1,
           1,
           1,
           1,
           1,
           1,
           1,
           1,
           1,
           1,
           1,
           1,
           1,
           1,
           1,
           1,
           1,
           1,
           1,
           1,
           1,
           1,
           1,
           1,
           1,
           1,
           1,
           1,
           1,
           1,
           1,
           1,
           1,
           1,
           1,
           1,
           1,
           1,
           1,
           1,
           1,
           1,
           1,
           1,
           1,
           1,
           1,
           1,
           1,
           1,
           1,
           1,
           1,
           1,
           1,
           1,
           1,
           1,
           1,
           1,
           1,
           1,
           1,
           1,
           1,
           1,
           1,
           1,
           1,
           1,
           1,
           1,
           1,
           1,
           1,
           1,
           1,
           1,
           1,
           1,
           1,
           1,
           1,
           1,
           1,
           1,
           1,
           1,
           1,
           1,
           1,
           1,
           1,
           1,
           1,
           1,
           1,
           1,
           1,
           1,
           1,
           1,
           1,
           1,
           1,
           1,
           1,
           1,
           1,
           1,
           1,
           1,
           1,
           1,
           1,
           1,
           1,
           1,
           1,
           1,
           1,
           1,
           1,
           1,
           1,
           1,
           1,
           1,
           1,
           1,
           1,
           1,
           1,
           1,
           1,
           1,
           1,
           1,
           1
          ],
          "coloraxis": "coloraxis",
          "size": [
           28,
           27,
           27,
           25,
           23,
           23,
           21,
           21,
           21,
           18,
           17,
           17,
           17,
           17,
           17,
           17,
           16,
           16,
           16,
           16,
           16,
           15,
           15,
           15,
           15,
           15,
           14,
           14,
           14,
           14,
           14,
           13,
           13,
           13,
           13,
           13,
           13,
           13,
           13,
           12,
           12,
           12,
           12,
           12,
           12,
           12,
           12,
           12,
           12,
           12,
           12,
           11,
           11,
           11,
           11,
           11,
           11,
           11,
           11,
           11,
           11,
           11,
           11,
           11,
           11,
           11,
           11,
           11,
           11,
           11,
           11,
           11,
           11,
           11,
           11,
           10,
           10,
           10,
           10,
           10,
           10,
           10,
           10,
           10,
           10,
           10,
           10,
           10,
           10,
           10,
           10,
           10,
           10,
           10,
           9,
           9,
           9,
           9,
           9,
           9,
           9,
           9,
           9,
           9,
           9,
           9,
           9,
           9,
           9,
           8,
           8,
           8,
           8,
           8,
           8,
           8,
           8,
           8,
           8,
           8,
           8,
           8,
           8,
           8,
           8,
           8,
           8,
           8,
           8,
           8,
           8,
           7,
           7,
           7,
           7,
           7,
           7,
           7,
           7,
           7,
           7,
           7,
           7,
           7,
           7,
           7,
           7,
           7,
           7,
           6,
           6,
           6,
           6,
           6,
           6,
           6,
           6,
           6,
           6,
           6,
           6,
           6,
           6,
           6,
           6,
           6,
           6,
           6,
           6,
           6,
           6,
           6,
           6,
           6,
           6,
           6,
           6,
           6,
           6,
           6,
           6,
           6,
           6,
           5,
           5,
           5,
           5,
           5,
           5,
           5,
           5,
           5,
           5,
           5,
           5,
           5,
           5,
           5,
           5,
           5,
           5,
           5,
           5,
           5,
           5,
           5,
           5,
           5,
           5,
           5,
           5,
           5,
           5,
           5,
           5,
           5,
           5,
           5,
           5,
           5,
           5,
           5,
           5,
           5,
           5,
           5,
           5,
           5,
           5,
           5,
           5,
           4,
           4,
           4,
           4,
           4,
           4,
           4,
           4,
           4,
           4,
           4,
           4,
           4,
           4,
           4,
           4,
           4,
           4,
           4,
           4,
           4,
           4,
           4,
           4,
           4,
           4,
           4,
           4,
           4,
           4,
           4,
           4,
           4,
           4,
           4,
           4,
           4,
           4,
           4,
           4,
           4,
           4,
           4,
           4,
           4,
           4,
           4,
           4,
           4,
           4,
           4,
           4,
           4,
           3,
           3,
           3,
           3,
           3,
           3,
           3,
           3,
           3,
           3,
           3,
           3,
           3,
           3,
           3,
           3,
           3,
           3,
           3,
           3,
           3,
           3,
           3,
           3,
           3,
           3,
           3,
           3,
           3,
           3,
           3,
           3,
           3,
           3,
           3,
           3,
           3,
           3,
           3,
           3,
           3,
           3,
           3,
           3,
           3,
           3,
           3,
           3,
           3,
           3,
           3,
           3,
           3,
           3,
           3,
           3,
           3,
           3,
           3,
           3,
           3,
           3,
           3,
           3,
           3,
           3,
           3,
           3,
           3,
           3,
           3,
           3,
           3,
           3,
           2,
           2,
           2,
           2,
           2,
           2,
           2,
           2,
           2,
           2,
           2,
           2,
           2,
           2,
           2,
           2,
           2,
           2,
           2,
           2,
           2,
           2,
           2,
           2,
           2,
           2,
           2,
           2,
           2,
           2,
           2,
           2,
           2,
           2,
           2,
           2,
           2,
           2,
           2,
           2,
           2,
           2,
           2,
           2,
           2,
           2,
           2,
           2,
           2,
           2,
           2,
           2,
           2,
           2,
           2,
           2,
           2,
           2,
           2,
           2,
           2,
           2,
           2,
           2,
           2,
           2,
           2,
           2,
           2,
           2,
           2,
           2,
           2,
           2,
           2,
           2,
           2,
           2,
           2,
           2,
           2,
           2,
           2,
           2,
           2,
           2,
           2,
           2,
           2,
           2,
           2,
           2,
           2,
           2,
           2,
           2,
           2,
           2,
           2,
           2,
           2,
           2,
           2,
           2,
           2,
           2,
           2,
           2,
           2,
           2,
           2,
           2,
           2,
           2,
           2,
           2,
           2,
           2,
           2,
           2,
           2,
           2,
           2,
           2,
           2,
           2,
           2,
           2,
           2,
           2,
           2,
           2,
           2,
           2,
           2,
           2,
           2,
           2,
           1,
           1,
           1,
           1,
           1,
           1,
           1,
           1,
           1,
           1,
           1,
           1,
           1,
           1,
           1,
           1,
           1,
           1,
           1,
           1,
           1,
           1,
           1,
           1,
           1,
           1,
           1,
           1,
           1,
           1,
           1,
           1,
           1,
           1,
           1,
           1,
           1,
           1,
           1,
           1,
           1,
           1,
           1,
           1,
           1,
           1,
           1,
           1,
           1,
           1,
           1,
           1,
           1,
           1,
           1,
           1,
           1,
           1,
           1,
           1,
           1,
           1,
           1,
           1,
           1,
           1,
           1,
           1,
           1,
           1,
           1,
           1,
           1,
           1,
           1,
           1,
           1,
           1,
           1,
           1,
           1,
           1,
           1,
           1,
           1,
           1,
           1,
           1,
           1,
           1,
           1,
           1,
           1,
           1,
           1,
           1,
           1,
           1,
           1,
           1,
           1,
           1,
           1,
           1,
           1,
           1,
           1,
           1,
           1,
           1,
           1,
           1,
           1,
           1,
           1,
           1,
           1,
           1,
           1,
           1,
           1,
           1,
           1,
           1,
           1,
           1,
           1,
           1,
           1,
           1,
           1,
           1,
           1,
           1,
           1,
           1,
           1,
           1,
           1,
           1,
           1,
           1,
           1,
           1,
           1,
           1,
           1,
           1,
           1,
           1,
           1,
           1,
           1,
           1,
           1,
           1,
           1,
           1,
           1,
           1,
           1,
           1,
           1,
           1,
           1,
           1,
           1,
           1,
           1,
           1,
           1,
           1,
           1,
           1,
           1,
           1,
           1,
           1,
           1,
           1,
           1,
           1,
           1,
           1,
           1,
           1,
           1,
           1,
           1,
           1,
           1,
           1,
           1,
           1,
           1,
           1,
           1,
           1,
           1,
           1,
           1,
           1,
           1,
           1,
           1,
           1,
           1,
           1,
           1,
           1,
           1,
           1,
           1,
           1,
           1,
           1,
           1,
           1,
           1,
           1,
           1,
           1,
           1,
           1,
           1,
           1,
           1,
           1,
           1,
           1,
           1,
           1,
           1,
           1,
           1,
           1,
           1,
           1,
           1,
           1,
           1,
           1,
           1,
           1,
           1,
           1,
           1,
           1,
           1,
           1,
           1,
           1,
           1,
           1,
           1,
           1,
           1
          ],
          "sizemode": "area",
          "sizeref": 0.07,
          "symbol": "circle"
         },
         "mode": "markers",
         "name": "",
         "orientation": "v",
         "showlegend": false,
         "type": "scatter",
         "x": [
          88,
          86,
          87,
          84,
          87,
          87,
          77,
          81,
          77,
          94,
          85,
          82,
          74,
          91,
          78,
          70,
          75,
          82,
          75,
          77,
          83,
          80,
          84,
          77,
          77,
          81,
          78,
          75,
          77,
          77,
          81,
          82,
          70,
          83,
          83,
          73,
          75,
          78,
          82,
          83,
          74,
          78,
          70,
          72,
          78,
          69,
          72,
          78,
          83,
          75,
          78,
          68,
          85,
          80,
          79,
          76,
          73,
          77,
          79,
          76,
          79,
          74,
          73,
          77,
          48,
          79,
          74,
          75,
          81,
          77,
          78,
          82,
          76,
          90,
          79,
          81,
          86,
          68,
          79,
          73,
          64,
          72,
          76,
          78,
          72,
          74,
          68,
          80,
          80,
          75,
          86,
          79,
          74,
          80,
          85,
          73,
          75,
          73,
          75,
          86,
          83,
          54,
          80,
          78,
          64,
          78,
          82,
          75,
          65,
          72,
          78,
          74,
          69,
          45,
          72,
          78,
          81,
          87,
          87,
          90,
          81,
          78,
          78,
          79,
          78,
          73,
          79,
          80,
          71,
          76,
          76,
          69,
          74,
          63,
          67,
          64,
          77,
          73,
          78,
          79,
          77,
          74,
          70,
          69,
          76,
          78,
          78,
          60,
          81,
          92,
          82,
          75,
          76,
          74,
          78,
          67,
          59,
          73,
          74,
          72,
          83,
          81,
          58,
          82,
          62,
          83,
          79,
          78,
          80,
          82,
          66,
          71,
          70,
          74,
          74,
          72,
          75,
          61,
          84,
          79,
          76,
          60,
          68,
          66,
          76,
          69,
          69,
          75,
          71,
          72,
          70,
          72,
          68,
          65,
          69,
          80,
          76,
          70,
          71,
          58,
          77,
          83,
          71,
          77,
          73,
          67,
          75,
          78,
          65,
          60,
          38,
          78,
          81,
          61,
          76,
          73,
          63,
          81,
          74,
          72,
          71,
          67,
          79,
          72,
          76,
          72,
          65,
          58,
          50,
          58,
          77,
          74,
          71,
          74,
          51,
          74,
          75,
          65,
          76,
          70,
          83,
          73,
          81,
          62,
          73,
          61,
          78,
          66,
          68,
          75,
          76,
          69,
          76,
          63,
          50,
          76,
          74,
          61,
          22,
          79,
          84,
          67,
          66,
          50,
          80,
          79,
          78,
          72,
          73,
          73,
          76,
          69,
          72,
          81,
          58,
          63,
          75,
          82,
          78,
          33,
          74,
          72,
          75,
          71,
          78,
          62,
          62,
          65,
          28,
          77,
          76,
          66,
          75,
          53,
          40,
          61,
          81,
          71,
          73,
          46,
          72,
          71,
          72,
          86,
          34,
          43,
          77,
          41,
          40,
          42,
          70,
          75,
          74,
          54,
          76,
          null,
          76,
          43,
          57,
          69,
          67,
          69,
          73,
          75,
          69,
          76,
          62,
          73,
          75,
          54,
          54,
          79,
          81,
          84,
          77,
          42,
          35,
          60,
          67,
          76,
          75,
          47,
          40,
          49,
          67,
          78,
          82,
          47,
          73,
          70,
          54,
          74,
          72,
          71,
          75,
          46,
          73,
          66,
          61,
          61,
          62,
          64,
          72,
          72,
          71,
          49,
          67,
          72,
          45,
          67,
          68,
          66,
          56,
          65,
          40,
          60,
          67,
          67,
          81,
          67,
          86,
          76,
          64,
          53,
          57,
          65,
          54,
          45,
          71,
          74,
          62,
          66,
          42,
          42,
          74,
          49,
          81,
          56,
          71,
          78,
          67,
          44,
          77,
          58,
          63,
          61,
          53,
          78,
          61,
          63,
          41,
          76,
          77,
          59,
          64,
          43,
          69,
          61,
          47,
          74,
          31,
          53,
          86,
          73,
          68,
          71,
          39,
          67,
          33,
          81,
          78,
          74,
          76,
          74,
          74,
          74,
          65,
          74,
          null,
          38,
          69,
          61,
          67,
          30,
          83,
          83,
          51,
          75,
          79,
          79,
          63,
          75,
          77,
          66,
          71,
          70,
          70,
          67,
          74,
          60,
          72,
          58,
          79,
          40,
          63,
          64,
          41,
          76,
          70,
          64,
          66,
          72,
          71,
          72,
          60,
          69,
          74,
          66,
          62,
          63,
          76,
          65,
          53,
          39,
          67,
          73,
          40,
          72,
          53,
          74,
          70,
          40,
          77,
          76,
          83,
          47,
          42,
          57,
          30,
          60,
          32,
          69,
          59,
          62,
          57,
          60,
          34,
          63,
          null,
          81,
          45,
          50,
          52,
          70,
          74,
          55,
          76,
          26,
          68,
          68,
          70,
          32,
          72,
          45,
          56,
          40,
          39,
          70,
          55,
          64,
          77,
          65,
          67,
          60,
          72,
          35,
          33,
          68,
          66,
          52,
          68,
          60,
          71,
          61,
          40,
          64,
          75,
          78,
          55,
          49,
          49,
          56,
          67,
          78,
          39,
          56,
          63,
          66,
          42,
          72,
          39,
          51,
          70,
          71,
          null,
          65,
          78,
          78,
          80,
          50,
          75,
          84,
          64,
          81,
          73,
          37,
          55,
          50,
          47,
          57,
          58,
          75,
          56,
          64,
          64,
          69,
          69,
          25,
          72,
          60,
          45,
          49,
          81,
          57,
          46,
          67,
          69,
          35,
          50,
          73,
          40,
          74,
          45,
          49,
          51,
          68,
          67,
          52,
          39,
          38,
          46,
          71,
          71,
          55,
          76,
          null,
          71,
          62,
          69,
          76,
          71,
          51,
          66,
          61,
          68,
          61,
          56,
          33,
          60,
          76,
          78,
          70,
          64,
          54,
          60,
          48,
          71,
          71,
          46,
          69,
          72,
          76,
          48,
          73,
          73,
          61,
          61,
          64,
          69,
          56,
          32,
          70,
          39,
          71,
          47,
          31,
          69,
          40,
          65,
          58,
          43,
          56,
          53,
          35,
          50,
          68,
          80,
          53,
          52,
          59,
          32,
          76,
          39,
          77,
          61,
          59,
          71,
          63,
          44,
          56,
          71,
          65,
          78,
          55,
          27,
          53,
          32,
          39,
          53,
          76,
          29,
          32,
          68,
          66,
          74,
          66,
          68,
          40,
          35,
          34,
          57,
          68,
          76,
          61,
          76,
          41,
          67,
          33,
          63,
          67,
          63,
          65,
          44,
          66,
          78,
          52,
          36,
          76,
          64,
          76,
          65,
          58,
          63,
          71,
          40,
          79,
          39,
          45,
          72,
          46,
          84,
          67,
          73,
          55,
          42,
          71,
          62,
          77,
          40,
          51,
          53,
          68,
          74,
          56,
          34,
          64,
          60,
          74,
          37,
          67,
          79,
          51,
          66
         ],
         "xaxis": "x",
         "y": [
          28,
          27,
          27,
          25,
          23,
          23,
          21,
          21,
          21,
          18,
          17,
          17,
          17,
          17,
          17,
          17,
          16,
          16,
          16,
          16,
          16,
          15,
          15,
          15,
          15,
          15,
          14,
          14,
          14,
          14,
          14,
          13,
          13,
          13,
          13,
          13,
          13,
          13,
          13,
          12,
          12,
          12,
          12,
          12,
          12,
          12,
          12,
          12,
          12,
          12,
          12,
          11,
          11,
          11,
          11,
          11,
          11,
          11,
          11,
          11,
          11,
          11,
          11,
          11,
          11,
          11,
          11,
          11,
          11,
          11,
          11,
          11,
          11,
          11,
          11,
          10,
          10,
          10,
          10,
          10,
          10,
          10,
          10,
          10,
          10,
          10,
          10,
          10,
          10,
          10,
          10,
          10,
          10,
          10,
          9,
          9,
          9,
          9,
          9,
          9,
          9,
          9,
          9,
          9,
          9,
          9,
          9,
          9,
          9,
          8,
          8,
          8,
          8,
          8,
          8,
          8,
          8,
          8,
          8,
          8,
          8,
          8,
          8,
          8,
          8,
          8,
          8,
          8,
          8,
          8,
          8,
          7,
          7,
          7,
          7,
          7,
          7,
          7,
          7,
          7,
          7,
          7,
          7,
          7,
          7,
          7,
          7,
          7,
          7,
          6,
          6,
          6,
          6,
          6,
          6,
          6,
          6,
          6,
          6,
          6,
          6,
          6,
          6,
          6,
          6,
          6,
          6,
          6,
          6,
          6,
          6,
          6,
          6,
          6,
          6,
          6,
          6,
          6,
          6,
          6,
          6,
          6,
          6,
          5,
          5,
          5,
          5,
          5,
          5,
          5,
          5,
          5,
          5,
          5,
          5,
          5,
          5,
          5,
          5,
          5,
          5,
          5,
          5,
          5,
          5,
          5,
          5,
          5,
          5,
          5,
          5,
          5,
          5,
          5,
          5,
          5,
          5,
          5,
          5,
          5,
          5,
          5,
          5,
          5,
          5,
          5,
          5,
          5,
          5,
          5,
          5,
          4,
          4,
          4,
          4,
          4,
          4,
          4,
          4,
          4,
          4,
          4,
          4,
          4,
          4,
          4,
          4,
          4,
          4,
          4,
          4,
          4,
          4,
          4,
          4,
          4,
          4,
          4,
          4,
          4,
          4,
          4,
          4,
          4,
          4,
          4,
          4,
          4,
          4,
          4,
          4,
          4,
          4,
          4,
          4,
          4,
          4,
          4,
          4,
          4,
          4,
          4,
          4,
          4,
          3,
          3,
          3,
          3,
          3,
          3,
          3,
          3,
          3,
          3,
          3,
          3,
          3,
          3,
          3,
          3,
          3,
          3,
          3,
          3,
          3,
          3,
          3,
          3,
          3,
          3,
          3,
          3,
          3,
          3,
          3,
          3,
          3,
          3,
          3,
          3,
          3,
          3,
          3,
          3,
          3,
          3,
          3,
          3,
          3,
          3,
          3,
          3,
          3,
          3,
          3,
          3,
          3,
          3,
          3,
          3,
          3,
          3,
          3,
          3,
          3,
          3,
          3,
          3,
          3,
          3,
          3,
          3,
          3,
          3,
          3,
          3,
          3,
          3,
          2,
          2,
          2,
          2,
          2,
          2,
          2,
          2,
          2,
          2,
          2,
          2,
          2,
          2,
          2,
          2,
          2,
          2,
          2,
          2,
          2,
          2,
          2,
          2,
          2,
          2,
          2,
          2,
          2,
          2,
          2,
          2,
          2,
          2,
          2,
          2,
          2,
          2,
          2,
          2,
          2,
          2,
          2,
          2,
          2,
          2,
          2,
          2,
          2,
          2,
          2,
          2,
          2,
          2,
          2,
          2,
          2,
          2,
          2,
          2,
          2,
          2,
          2,
          2,
          2,
          2,
          2,
          2,
          2,
          2,
          2,
          2,
          2,
          2,
          2,
          2,
          2,
          2,
          2,
          2,
          2,
          2,
          2,
          2,
          2,
          2,
          2,
          2,
          2,
          2,
          2,
          2,
          2,
          2,
          2,
          2,
          2,
          2,
          2,
          2,
          2,
          2,
          2,
          2,
          2,
          2,
          2,
          2,
          2,
          2,
          2,
          2,
          2,
          2,
          2,
          2,
          2,
          2,
          2,
          2,
          2,
          2,
          2,
          2,
          2,
          2,
          2,
          2,
          2,
          2,
          2,
          2,
          2,
          2,
          2,
          2,
          2,
          2,
          1,
          1,
          1,
          1,
          1,
          1,
          1,
          1,
          1,
          1,
          1,
          1,
          1,
          1,
          1,
          1,
          1,
          1,
          1,
          1,
          1,
          1,
          1,
          1,
          1,
          1,
          1,
          1,
          1,
          1,
          1,
          1,
          1,
          1,
          1,
          1,
          1,
          1,
          1,
          1,
          1,
          1,
          1,
          1,
          1,
          1,
          1,
          1,
          1,
          1,
          1,
          1,
          1,
          1,
          1,
          1,
          1,
          1,
          1,
          1,
          1,
          1,
          1,
          1,
          1,
          1,
          1,
          1,
          1,
          1,
          1,
          1,
          1,
          1,
          1,
          1,
          1,
          1,
          1,
          1,
          1,
          1,
          1,
          1,
          1,
          1,
          1,
          1,
          1,
          1,
          1,
          1,
          1,
          1,
          1,
          1,
          1,
          1,
          1,
          1,
          1,
          1,
          1,
          1,
          1,
          1,
          1,
          1,
          1,
          1,
          1,
          1,
          1,
          1,
          1,
          1,
          1,
          1,
          1,
          1,
          1,
          1,
          1,
          1,
          1,
          1,
          1,
          1,
          1,
          1,
          1,
          1,
          1,
          1,
          1,
          1,
          1,
          1,
          1,
          1,
          1,
          1,
          1,
          1,
          1,
          1,
          1,
          1,
          1,
          1,
          1,
          1,
          1,
          1,
          1,
          1,
          1,
          1,
          1,
          1,
          1,
          1,
          1,
          1,
          1,
          1,
          1,
          1,
          1,
          1,
          1,
          1,
          1,
          1,
          1,
          1,
          1,
          1,
          1,
          1,
          1,
          1,
          1,
          1,
          1,
          1,
          1,
          1,
          1,
          1,
          1,
          1,
          1,
          1,
          1,
          1,
          1,
          1,
          1,
          1,
          1,
          1,
          1,
          1,
          1,
          1,
          1,
          1,
          1,
          1,
          1,
          1,
          1,
          1,
          1,
          1,
          1,
          1,
          1,
          1,
          1,
          1,
          1,
          1,
          1,
          1,
          1,
          1,
          1,
          1,
          1,
          1,
          1,
          1,
          1,
          1,
          1,
          1,
          1,
          1,
          1,
          1,
          1,
          1,
          1,
          1,
          1,
          1,
          1,
          1,
          1,
          1,
          1,
          1,
          1,
          1,
          1
         ],
         "yaxis": "y"
        }
       ],
       "layout": {
        "coloraxis": {
         "colorbar": {
          "title": {
           "text": "goles"
          }
         },
         "colorscale": [
          [
           0,
           "#440154"
          ],
          [
           0.1111111111111111,
           "#482878"
          ],
          [
           0.2222222222222222,
           "#3e4989"
          ],
          [
           0.3333333333333333,
           "#31688e"
          ],
          [
           0.4444444444444444,
           "#26828e"
          ],
          [
           0.5555555555555556,
           "#1f9e89"
          ],
          [
           0.6666666666666666,
           "#35b779"
          ],
          [
           0.7777777777777778,
           "#6ece58"
          ],
          [
           0.8888888888888888,
           "#b5de2b"
          ],
          [
           1,
           "#fde725"
          ]
         ]
        },
        "legend": {
         "itemsizing": "constant",
         "tracegroupgap": 0
        },
        "margin": {
         "t": 60
        },
        "template": {
         "data": {
          "bar": [
           {
            "error_x": {
             "color": "#2a3f5f"
            },
            "error_y": {
             "color": "#2a3f5f"
            },
            "marker": {
             "line": {
              "color": "#E5ECF6",
              "width": 0.5
             },
             "pattern": {
              "fillmode": "overlay",
              "size": 10,
              "solidity": 0.2
             }
            },
            "type": "bar"
           }
          ],
          "barpolar": [
           {
            "marker": {
             "line": {
              "color": "#E5ECF6",
              "width": 0.5
             },
             "pattern": {
              "fillmode": "overlay",
              "size": 10,
              "solidity": 0.2
             }
            },
            "type": "barpolar"
           }
          ],
          "carpet": [
           {
            "aaxis": {
             "endlinecolor": "#2a3f5f",
             "gridcolor": "white",
             "linecolor": "white",
             "minorgridcolor": "white",
             "startlinecolor": "#2a3f5f"
            },
            "baxis": {
             "endlinecolor": "#2a3f5f",
             "gridcolor": "white",
             "linecolor": "white",
             "minorgridcolor": "white",
             "startlinecolor": "#2a3f5f"
            },
            "type": "carpet"
           }
          ],
          "choropleth": [
           {
            "colorbar": {
             "outlinewidth": 0,
             "ticks": ""
            },
            "type": "choropleth"
           }
          ],
          "contour": [
           {
            "colorbar": {
             "outlinewidth": 0,
             "ticks": ""
            },
            "colorscale": [
             [
              0,
              "#0d0887"
             ],
             [
              0.1111111111111111,
              "#46039f"
             ],
             [
              0.2222222222222222,
              "#7201a8"
             ],
             [
              0.3333333333333333,
              "#9c179e"
             ],
             [
              0.4444444444444444,
              "#bd3786"
             ],
             [
              0.5555555555555556,
              "#d8576b"
             ],
             [
              0.6666666666666666,
              "#ed7953"
             ],
             [
              0.7777777777777778,
              "#fb9f3a"
             ],
             [
              0.8888888888888888,
              "#fdca26"
             ],
             [
              1,
              "#f0f921"
             ]
            ],
            "type": "contour"
           }
          ],
          "contourcarpet": [
           {
            "colorbar": {
             "outlinewidth": 0,
             "ticks": ""
            },
            "type": "contourcarpet"
           }
          ],
          "heatmap": [
           {
            "colorbar": {
             "outlinewidth": 0,
             "ticks": ""
            },
            "colorscale": [
             [
              0,
              "#0d0887"
             ],
             [
              0.1111111111111111,
              "#46039f"
             ],
             [
              0.2222222222222222,
              "#7201a8"
             ],
             [
              0.3333333333333333,
              "#9c179e"
             ],
             [
              0.4444444444444444,
              "#bd3786"
             ],
             [
              0.5555555555555556,
              "#d8576b"
             ],
             [
              0.6666666666666666,
              "#ed7953"
             ],
             [
              0.7777777777777778,
              "#fb9f3a"
             ],
             [
              0.8888888888888888,
              "#fdca26"
             ],
             [
              1,
              "#f0f921"
             ]
            ],
            "type": "heatmap"
           }
          ],
          "heatmapgl": [
           {
            "colorbar": {
             "outlinewidth": 0,
             "ticks": ""
            },
            "colorscale": [
             [
              0,
              "#0d0887"
             ],
             [
              0.1111111111111111,
              "#46039f"
             ],
             [
              0.2222222222222222,
              "#7201a8"
             ],
             [
              0.3333333333333333,
              "#9c179e"
             ],
             [
              0.4444444444444444,
              "#bd3786"
             ],
             [
              0.5555555555555556,
              "#d8576b"
             ],
             [
              0.6666666666666666,
              "#ed7953"
             ],
             [
              0.7777777777777778,
              "#fb9f3a"
             ],
             [
              0.8888888888888888,
              "#fdca26"
             ],
             [
              1,
              "#f0f921"
             ]
            ],
            "type": "heatmapgl"
           }
          ],
          "histogram": [
           {
            "marker": {
             "pattern": {
              "fillmode": "overlay",
              "size": 10,
              "solidity": 0.2
             }
            },
            "type": "histogram"
           }
          ],
          "histogram2d": [
           {
            "colorbar": {
             "outlinewidth": 0,
             "ticks": ""
            },
            "colorscale": [
             [
              0,
              "#0d0887"
             ],
             [
              0.1111111111111111,
              "#46039f"
             ],
             [
              0.2222222222222222,
              "#7201a8"
             ],
             [
              0.3333333333333333,
              "#9c179e"
             ],
             [
              0.4444444444444444,
              "#bd3786"
             ],
             [
              0.5555555555555556,
              "#d8576b"
             ],
             [
              0.6666666666666666,
              "#ed7953"
             ],
             [
              0.7777777777777778,
              "#fb9f3a"
             ],
             [
              0.8888888888888888,
              "#fdca26"
             ],
             [
              1,
              "#f0f921"
             ]
            ],
            "type": "histogram2d"
           }
          ],
          "histogram2dcontour": [
           {
            "colorbar": {
             "outlinewidth": 0,
             "ticks": ""
            },
            "colorscale": [
             [
              0,
              "#0d0887"
             ],
             [
              0.1111111111111111,
              "#46039f"
             ],
             [
              0.2222222222222222,
              "#7201a8"
             ],
             [
              0.3333333333333333,
              "#9c179e"
             ],
             [
              0.4444444444444444,
              "#bd3786"
             ],
             [
              0.5555555555555556,
              "#d8576b"
             ],
             [
              0.6666666666666666,
              "#ed7953"
             ],
             [
              0.7777777777777778,
              "#fb9f3a"
             ],
             [
              0.8888888888888888,
              "#fdca26"
             ],
             [
              1,
              "#f0f921"
             ]
            ],
            "type": "histogram2dcontour"
           }
          ],
          "mesh3d": [
           {
            "colorbar": {
             "outlinewidth": 0,
             "ticks": ""
            },
            "type": "mesh3d"
           }
          ],
          "parcoords": [
           {
            "line": {
             "colorbar": {
              "outlinewidth": 0,
              "ticks": ""
             }
            },
            "type": "parcoords"
           }
          ],
          "pie": [
           {
            "automargin": true,
            "type": "pie"
           }
          ],
          "scatter": [
           {
            "fillpattern": {
             "fillmode": "overlay",
             "size": 10,
             "solidity": 0.2
            },
            "type": "scatter"
           }
          ],
          "scatter3d": [
           {
            "line": {
             "colorbar": {
              "outlinewidth": 0,
              "ticks": ""
             }
            },
            "marker": {
             "colorbar": {
              "outlinewidth": 0,
              "ticks": ""
             }
            },
            "type": "scatter3d"
           }
          ],
          "scattercarpet": [
           {
            "marker": {
             "colorbar": {
              "outlinewidth": 0,
              "ticks": ""
             }
            },
            "type": "scattercarpet"
           }
          ],
          "scattergeo": [
           {
            "marker": {
             "colorbar": {
              "outlinewidth": 0,
              "ticks": ""
             }
            },
            "type": "scattergeo"
           }
          ],
          "scattergl": [
           {
            "marker": {
             "colorbar": {
              "outlinewidth": 0,
              "ticks": ""
             }
            },
            "type": "scattergl"
           }
          ],
          "scattermapbox": [
           {
            "marker": {
             "colorbar": {
              "outlinewidth": 0,
              "ticks": ""
             }
            },
            "type": "scattermapbox"
           }
          ],
          "scatterpolar": [
           {
            "marker": {
             "colorbar": {
              "outlinewidth": 0,
              "ticks": ""
             }
            },
            "type": "scatterpolar"
           }
          ],
          "scatterpolargl": [
           {
            "marker": {
             "colorbar": {
              "outlinewidth": 0,
              "ticks": ""
             }
            },
            "type": "scatterpolargl"
           }
          ],
          "scatterternary": [
           {
            "marker": {
             "colorbar": {
              "outlinewidth": 0,
              "ticks": ""
             }
            },
            "type": "scatterternary"
           }
          ],
          "surface": [
           {
            "colorbar": {
             "outlinewidth": 0,
             "ticks": ""
            },
            "colorscale": [
             [
              0,
              "#0d0887"
             ],
             [
              0.1111111111111111,
              "#46039f"
             ],
             [
              0.2222222222222222,
              "#7201a8"
             ],
             [
              0.3333333333333333,
              "#9c179e"
             ],
             [
              0.4444444444444444,
              "#bd3786"
             ],
             [
              0.5555555555555556,
              "#d8576b"
             ],
             [
              0.6666666666666666,
              "#ed7953"
             ],
             [
              0.7777777777777778,
              "#fb9f3a"
             ],
             [
              0.8888888888888888,
              "#fdca26"
             ],
             [
              1,
              "#f0f921"
             ]
            ],
            "type": "surface"
           }
          ],
          "table": [
           {
            "cells": {
             "fill": {
              "color": "#EBF0F8"
             },
             "line": {
              "color": "white"
             }
            },
            "header": {
             "fill": {
              "color": "#C8D4E3"
             },
             "line": {
              "color": "white"
             }
            },
            "type": "table"
           }
          ]
         },
         "layout": {
          "annotationdefaults": {
           "arrowcolor": "#2a3f5f",
           "arrowhead": 0,
           "arrowwidth": 1
          },
          "autotypenumbers": "strict",
          "coloraxis": {
           "colorbar": {
            "outlinewidth": 0,
            "ticks": ""
           }
          },
          "colorscale": {
           "diverging": [
            [
             0,
             "#8e0152"
            ],
            [
             0.1,
             "#c51b7d"
            ],
            [
             0.2,
             "#de77ae"
            ],
            [
             0.3,
             "#f1b6da"
            ],
            [
             0.4,
             "#fde0ef"
            ],
            [
             0.5,
             "#f7f7f7"
            ],
            [
             0.6,
             "#e6f5d0"
            ],
            [
             0.7,
             "#b8e186"
            ],
            [
             0.8,
             "#7fbc41"
            ],
            [
             0.9,
             "#4d9221"
            ],
            [
             1,
             "#276419"
            ]
           ],
           "sequential": [
            [
             0,
             "#0d0887"
            ],
            [
             0.1111111111111111,
             "#46039f"
            ],
            [
             0.2222222222222222,
             "#7201a8"
            ],
            [
             0.3333333333333333,
             "#9c179e"
            ],
            [
             0.4444444444444444,
             "#bd3786"
            ],
            [
             0.5555555555555556,
             "#d8576b"
            ],
            [
             0.6666666666666666,
             "#ed7953"
            ],
            [
             0.7777777777777778,
             "#fb9f3a"
            ],
            [
             0.8888888888888888,
             "#fdca26"
            ],
            [
             1,
             "#f0f921"
            ]
           ],
           "sequentialminus": [
            [
             0,
             "#0d0887"
            ],
            [
             0.1111111111111111,
             "#46039f"
            ],
            [
             0.2222222222222222,
             "#7201a8"
            ],
            [
             0.3333333333333333,
             "#9c179e"
            ],
            [
             0.4444444444444444,
             "#bd3786"
            ],
            [
             0.5555555555555556,
             "#d8576b"
            ],
            [
             0.6666666666666666,
             "#ed7953"
            ],
            [
             0.7777777777777778,
             "#fb9f3a"
            ],
            [
             0.8888888888888888,
             "#fdca26"
            ],
            [
             1,
             "#f0f921"
            ]
           ]
          },
          "colorway": [
           "#636efa",
           "#EF553B",
           "#00cc96",
           "#ab63fa",
           "#FFA15A",
           "#19d3f3",
           "#FF6692",
           "#B6E880",
           "#FF97FF",
           "#FECB52"
          ],
          "font": {
           "color": "#2a3f5f"
          },
          "geo": {
           "bgcolor": "white",
           "lakecolor": "white",
           "landcolor": "#E5ECF6",
           "showlakes": true,
           "showland": true,
           "subunitcolor": "white"
          },
          "hoverlabel": {
           "align": "left"
          },
          "hovermode": "closest",
          "mapbox": {
           "style": "light"
          },
          "paper_bgcolor": "white",
          "plot_bgcolor": "#E5ECF6",
          "polar": {
           "angularaxis": {
            "gridcolor": "white",
            "linecolor": "white",
            "ticks": ""
           },
           "bgcolor": "#E5ECF6",
           "radialaxis": {
            "gridcolor": "white",
            "linecolor": "white",
            "ticks": ""
           }
          },
          "scene": {
           "xaxis": {
            "backgroundcolor": "#E5ECF6",
            "gridcolor": "white",
            "gridwidth": 2,
            "linecolor": "white",
            "showbackground": true,
            "ticks": "",
            "zerolinecolor": "white"
           },
           "yaxis": {
            "backgroundcolor": "#E5ECF6",
            "gridcolor": "white",
            "gridwidth": 2,
            "linecolor": "white",
            "showbackground": true,
            "ticks": "",
            "zerolinecolor": "white"
           },
           "zaxis": {
            "backgroundcolor": "#E5ECF6",
            "gridcolor": "white",
            "gridwidth": 2,
            "linecolor": "white",
            "showbackground": true,
            "ticks": "",
            "zerolinecolor": "white"
           }
          },
          "shapedefaults": {
           "line": {
            "color": "#2a3f5f"
           }
          },
          "ternary": {
           "aaxis": {
            "gridcolor": "white",
            "linecolor": "white",
            "ticks": ""
           },
           "baxis": {
            "gridcolor": "white",
            "linecolor": "white",
            "ticks": ""
           },
           "bgcolor": "#E5ECF6",
           "caxis": {
            "gridcolor": "white",
            "linecolor": "white",
            "ticks": ""
           }
          },
          "title": {
           "x": 0.05
          },
          "xaxis": {
           "automargin": true,
           "gridcolor": "white",
           "linecolor": "white",
           "ticks": "",
           "title": {
            "standoff": 15
           },
           "zerolinecolor": "white",
           "zerolinewidth": 2
          },
          "yaxis": {
           "automargin": true,
           "gridcolor": "white",
           "linecolor": "white",
           "ticks": "",
           "title": {
            "standoff": 15
           },
           "zerolinecolor": "white",
           "zerolinewidth": 2
          }
         }
        },
        "xaxis": {
         "anchor": "y",
         "domain": [
          0,
          1
         ],
         "title": {
          "text": "shooting"
         }
        },
        "yaxis": {
         "anchor": "x",
         "domain": [
          0,
          1
         ],
         "title": {
          "text": "goles"
         }
        }
       }
      }
     },
     "metadata": {},
     "output_type": "display_data"
    }
   ],
   "source": [
    "h3_2 = df_fifa[[\"id_j\",\"short_name\",\"shooting\"]]\n",
    "h3_2 = pd.merge(h3_2, df_reales[[\"id_j\",\"goles\"]],how=\"inner\", on=\"id_j\",) # !!!\n",
    "h3_2=h3_2.sort_values(\"goles\",ascending=False)\n",
    "fig = px.scatter(h3_2, x=\"shooting\",y=\"goles\", size=\"goles\", color_continuous_scale=px.colors.sequential.Viridis, color=\"goles\",hover_data=[\"short_name\",\"shooting\",\"goles\"])\n",
    "fig.show()"
   ]
  },
  {
   "cell_type": "markdown",
   "metadata": {},
   "source": [
    "## H4 Está relacionado las habilidades de pase con las asistencias reales?\n",
    "id_j, nombre, passing, asistencias\n"
   ]
  },
  {
   "cell_type": "code",
   "execution_count": 339,
   "metadata": {},
   "outputs": [],
   "source": [
    "df_fifa.head()\n",
    "h4 = df_fifa[[\"id_j\",\"short_name\",\"passing\"]]\n",
    "h4 = pd.merge(h4, df_reales[[\"id_j\",\"asistencias\"]],how=\"left\", on=\"id_j\",) # !!!"
   ]
  },
  {
   "cell_type": "code",
   "execution_count": null,
   "metadata": {},
   "outputs": [],
   "source": []
  }
 ],
 "metadata": {
  "kernelspec": {
   "display_name": "Python 3",
   "language": "python",
   "name": "python3"
  },
  "language_info": {
   "codemirror_mode": {
    "name": "ipython",
    "version": 3
   },
   "file_extension": ".py",
   "mimetype": "text/x-python",
   "name": "python",
   "nbconvert_exporter": "python",
   "pygments_lexer": "ipython3",
   "version": "3.10.2"
  }
 },
 "nbformat": 4,
 "nbformat_minor": 2
}
